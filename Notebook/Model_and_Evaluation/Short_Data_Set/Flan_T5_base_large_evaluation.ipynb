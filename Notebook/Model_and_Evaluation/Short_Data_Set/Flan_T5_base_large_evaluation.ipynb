{
  "nbformat": 4,
  "nbformat_minor": 0,
  "metadata": {
    "colab": {
      "provenance": []
    },
    "kernelspec": {
      "name": "python3",
      "display_name": "Python 3"
    },
    "language_info": {
      "name": "python"
    }
  },
  "cells": [
    {
      "cell_type": "code",
      "execution_count": 3,
      "metadata": {
        "id": "N0w2wrBd3qgZ",
        "colab": {
          "base_uri": "https://localhost:8080/"
        },
        "outputId": "469da0ca-4d4c-48e9-9c6c-bb5f4cfa565b"
      },
      "outputs": [
        {
          "output_type": "stream",
          "name": "stdout",
          "text": [
            "Collecting rouge_score\n",
            "  Using cached rouge_score-0.1.2-py3-none-any.whl\n",
            "Collecting evaluate\n",
            "  Using cached evaluate-0.4.2-py3-none-any.whl.metadata (9.3 kB)\n",
            "Requirement already satisfied: absl-py in /usr/local/lib/python3.10/dist-packages (from rouge_score) (1.4.0)\n",
            "Requirement already satisfied: nltk in /usr/local/lib/python3.10/dist-packages (from rouge_score) (3.8.1)\n",
            "Requirement already satisfied: numpy in /usr/local/lib/python3.10/dist-packages (from rouge_score) (1.25.2)\n",
            "Requirement already satisfied: six>=1.14.0 in /usr/local/lib/python3.10/dist-packages (from rouge_score) (1.16.0)\n",
            "Collecting datasets>=2.0.0 (from evaluate)\n",
            "  Using cached datasets-2.20.0-py3-none-any.whl.metadata (19 kB)\n",
            "Collecting dill (from evaluate)\n",
            "  Using cached dill-0.3.8-py3-none-any.whl.metadata (10 kB)\n",
            "Requirement already satisfied: pandas in /usr/local/lib/python3.10/dist-packages (from evaluate) (2.0.3)\n",
            "Requirement already satisfied: requests>=2.19.0 in /usr/local/lib/python3.10/dist-packages (from evaluate) (2.31.0)\n",
            "Requirement already satisfied: tqdm>=4.62.1 in /usr/local/lib/python3.10/dist-packages (from evaluate) (4.66.4)\n",
            "Collecting xxhash (from evaluate)\n",
            "  Using cached xxhash-3.4.1-cp310-cp310-manylinux_2_17_x86_64.manylinux2014_x86_64.whl.metadata (12 kB)\n",
            "Collecting multiprocess (from evaluate)\n",
            "  Using cached multiprocess-0.70.16-py310-none-any.whl.metadata (7.2 kB)\n",
            "Requirement already satisfied: fsspec>=2021.05.0 in /usr/local/lib/python3.10/dist-packages (from fsspec[http]>=2021.05.0->evaluate) (2024.6.1)\n",
            "Requirement already satisfied: huggingface-hub>=0.7.0 in /usr/local/lib/python3.10/dist-packages (from evaluate) (0.23.5)\n",
            "Requirement already satisfied: packaging in /usr/local/lib/python3.10/dist-packages (from evaluate) (24.1)\n",
            "Requirement already satisfied: filelock in /usr/local/lib/python3.10/dist-packages (from datasets>=2.0.0->evaluate) (3.15.4)\n",
            "Collecting pyarrow>=15.0.0 (from datasets>=2.0.0->evaluate)\n",
            "  Using cached pyarrow-17.0.0-cp310-cp310-manylinux_2_28_x86_64.whl.metadata (3.3 kB)\n",
            "Requirement already satisfied: pyarrow-hotfix in /usr/local/lib/python3.10/dist-packages (from datasets>=2.0.0->evaluate) (0.6)\n",
            "Collecting requests>=2.19.0 (from evaluate)\n",
            "  Using cached requests-2.32.3-py3-none-any.whl.metadata (4.6 kB)\n",
            "Collecting fsspec>=2021.05.0 (from fsspec[http]>=2021.05.0->evaluate)\n",
            "  Using cached fsspec-2024.5.0-py3-none-any.whl.metadata (11 kB)\n",
            "Requirement already satisfied: aiohttp in /usr/local/lib/python3.10/dist-packages (from datasets>=2.0.0->evaluate) (3.9.5)\n",
            "Requirement already satisfied: pyyaml>=5.1 in /usr/local/lib/python3.10/dist-packages (from datasets>=2.0.0->evaluate) (6.0.1)\n",
            "Requirement already satisfied: typing-extensions>=3.7.4.3 in /usr/local/lib/python3.10/dist-packages (from huggingface-hub>=0.7.0->evaluate) (4.12.2)\n",
            "Requirement already satisfied: charset-normalizer<4,>=2 in /usr/local/lib/python3.10/dist-packages (from requests>=2.19.0->evaluate) (3.3.2)\n",
            "Requirement already satisfied: idna<4,>=2.5 in /usr/local/lib/python3.10/dist-packages (from requests>=2.19.0->evaluate) (3.7)\n",
            "Requirement already satisfied: urllib3<3,>=1.21.1 in /usr/local/lib/python3.10/dist-packages (from requests>=2.19.0->evaluate) (2.0.7)\n",
            "Requirement already satisfied: certifi>=2017.4.17 in /usr/local/lib/python3.10/dist-packages (from requests>=2.19.0->evaluate) (2024.7.4)\n",
            "Requirement already satisfied: click in /usr/local/lib/python3.10/dist-packages (from nltk->rouge_score) (8.1.7)\n",
            "Requirement already satisfied: joblib in /usr/local/lib/python3.10/dist-packages (from nltk->rouge_score) (1.4.2)\n",
            "Requirement already satisfied: regex>=2021.8.3 in /usr/local/lib/python3.10/dist-packages (from nltk->rouge_score) (2024.5.15)\n",
            "Requirement already satisfied: python-dateutil>=2.8.2 in /usr/local/lib/python3.10/dist-packages (from pandas->evaluate) (2.8.2)\n",
            "Requirement already satisfied: pytz>=2020.1 in /usr/local/lib/python3.10/dist-packages (from pandas->evaluate) (2024.1)\n",
            "Requirement already satisfied: tzdata>=2022.1 in /usr/local/lib/python3.10/dist-packages (from pandas->evaluate) (2024.1)\n",
            "Requirement already satisfied: aiosignal>=1.1.2 in /usr/local/lib/python3.10/dist-packages (from aiohttp->datasets>=2.0.0->evaluate) (1.3.1)\n",
            "Requirement already satisfied: attrs>=17.3.0 in /usr/local/lib/python3.10/dist-packages (from aiohttp->datasets>=2.0.0->evaluate) (23.2.0)\n",
            "Requirement already satisfied: frozenlist>=1.1.1 in /usr/local/lib/python3.10/dist-packages (from aiohttp->datasets>=2.0.0->evaluate) (1.4.1)\n",
            "Requirement already satisfied: multidict<7.0,>=4.5 in /usr/local/lib/python3.10/dist-packages (from aiohttp->datasets>=2.0.0->evaluate) (6.0.5)\n",
            "Requirement already satisfied: yarl<2.0,>=1.0 in /usr/local/lib/python3.10/dist-packages (from aiohttp->datasets>=2.0.0->evaluate) (1.9.4)\n",
            "Requirement already satisfied: async-timeout<5.0,>=4.0 in /usr/local/lib/python3.10/dist-packages (from aiohttp->datasets>=2.0.0->evaluate) (4.0.3)\n",
            "Using cached evaluate-0.4.2-py3-none-any.whl (84 kB)\n",
            "Using cached datasets-2.20.0-py3-none-any.whl (547 kB)\n",
            "Using cached dill-0.3.8-py3-none-any.whl (116 kB)\n",
            "Using cached fsspec-2024.5.0-py3-none-any.whl (316 kB)\n",
            "Using cached requests-2.32.3-py3-none-any.whl (64 kB)\n",
            "Using cached multiprocess-0.70.16-py310-none-any.whl (134 kB)\n",
            "Using cached xxhash-3.4.1-cp310-cp310-manylinux_2_17_x86_64.manylinux2014_x86_64.whl (194 kB)\n",
            "Using cached pyarrow-17.0.0-cp310-cp310-manylinux_2_28_x86_64.whl (39.9 MB)\n",
            "Installing collected packages: xxhash, requests, pyarrow, fsspec, dill, rouge_score, multiprocess, datasets, evaluate\n",
            "  Attempting uninstall: requests\n",
            "    Found existing installation: requests 2.31.0\n",
            "    Uninstalling requests-2.31.0:\n",
            "      Successfully uninstalled requests-2.31.0\n",
            "  Attempting uninstall: pyarrow\n",
            "    Found existing installation: pyarrow 14.0.2\n",
            "    Uninstalling pyarrow-14.0.2:\n",
            "      Successfully uninstalled pyarrow-14.0.2\n",
            "  Attempting uninstall: fsspec\n",
            "    Found existing installation: fsspec 2024.6.1\n",
            "    Uninstalling fsspec-2024.6.1:\n",
            "      Successfully uninstalled fsspec-2024.6.1\n",
            "\u001b[31mERROR: pip's dependency resolver does not currently take into account all the packages that are installed. This behaviour is the source of the following dependency conflicts.\n",
            "torch 2.3.1+cu121 requires nvidia-cublas-cu12==12.1.3.1; platform_system == \"Linux\" and platform_machine == \"x86_64\", which is not installed.\n",
            "torch 2.3.1+cu121 requires nvidia-cuda-cupti-cu12==12.1.105; platform_system == \"Linux\" and platform_machine == \"x86_64\", which is not installed.\n",
            "torch 2.3.1+cu121 requires nvidia-cuda-nvrtc-cu12==12.1.105; platform_system == \"Linux\" and platform_machine == \"x86_64\", which is not installed.\n",
            "torch 2.3.1+cu121 requires nvidia-cuda-runtime-cu12==12.1.105; platform_system == \"Linux\" and platform_machine == \"x86_64\", which is not installed.\n",
            "torch 2.3.1+cu121 requires nvidia-cudnn-cu12==8.9.2.26; platform_system == \"Linux\" and platform_machine == \"x86_64\", which is not installed.\n",
            "torch 2.3.1+cu121 requires nvidia-cufft-cu12==11.0.2.54; platform_system == \"Linux\" and platform_machine == \"x86_64\", which is not installed.\n",
            "torch 2.3.1+cu121 requires nvidia-curand-cu12==10.3.2.106; platform_system == \"Linux\" and platform_machine == \"x86_64\", which is not installed.\n",
            "torch 2.3.1+cu121 requires nvidia-cusolver-cu12==11.4.5.107; platform_system == \"Linux\" and platform_machine == \"x86_64\", which is not installed.\n",
            "torch 2.3.1+cu121 requires nvidia-cusparse-cu12==12.1.0.106; platform_system == \"Linux\" and platform_machine == \"x86_64\", which is not installed.\n",
            "torch 2.3.1+cu121 requires nvidia-nccl-cu12==2.20.5; platform_system == \"Linux\" and platform_machine == \"x86_64\", which is not installed.\n",
            "torch 2.3.1+cu121 requires nvidia-nvtx-cu12==12.1.105; platform_system == \"Linux\" and platform_machine == \"x86_64\", which is not installed.\n",
            "cudf-cu12 24.4.1 requires pyarrow<15.0.0a0,>=14.0.1, but you have pyarrow 17.0.0 which is incompatible.\n",
            "gcsfs 2024.6.1 requires fsspec==2024.6.1, but you have fsspec 2024.5.0 which is incompatible.\n",
            "google-colab 1.0.0 requires requests==2.31.0, but you have requests 2.32.3 which is incompatible.\n",
            "ibis-framework 8.0.0 requires pyarrow<16,>=2, but you have pyarrow 17.0.0 which is incompatible.\u001b[0m\u001b[31m\n",
            "\u001b[0mSuccessfully installed datasets-2.20.0 dill-0.3.8 evaluate-0.4.2 fsspec-2024.5.0 multiprocess-0.70.16 pyarrow-17.0.0 requests-2.32.3 rouge_score-0.1.2 xxhash-3.4.1\n"
          ]
        }
      ],
      "source": [
        "! pip install rouge_score evaluate"
      ]
    },
    {
      "cell_type": "code",
      "source": [
        "import torch\n",
        "import time\n",
        "import evaluate\n",
        "import pandas as pd\n",
        "import numpy as np\n",
        "import os\n",
        "import torch\n",
        "\n",
        "from datasets import Dataset, load_metric\n",
        "\n",
        "from google.colab import drive\n",
        "drive.mount('/content/drive')"
      ],
      "metadata": {
        "id": "3ZKrv0HH33UV",
        "colab": {
          "base_uri": "https://localhost:8080/"
        },
        "outputId": "73445a41-3f9e-41ef-ddc2-4070191d3935"
      },
      "execution_count": 4,
      "outputs": [
        {
          "output_type": "stream",
          "name": "stdout",
          "text": [
            "Mounted at /content/drive\n"
          ]
        }
      ]
    },
    {
      "cell_type": "code",
      "source": [
        "!ls '/content/drive/MyDrive/Colab Notebooks/w266_Project Ideas/Results/Models/Baselines'"
      ],
      "metadata": {
        "colab": {
          "base_uri": "https://localhost:8080/"
        },
        "id": "IK_pNgonXukA",
        "outputId": "49abf5ba-69a6-4118-e97a-ab7aae209ef0"
      },
      "execution_count": 5,
      "outputs": [
        {
          "output_type": "stream",
          "name": "stdout",
          "text": [
            "'baseline_flan_t5_base_adj_shortdialogue_predictions (1).gsheet'\n",
            " baseline_flan_t5_base_adj_shortdialogue_predictions.csv\n",
            " baseline_flan_t5_base_adj_shortdialogue_predictions.gsheet\n",
            " baseline_flan_t5_base_shortdialogue_predictions.csv\n",
            " baseline_flan_t5_base_shortdialogue_predictions.xlsx\n",
            " baseline_flan_t5_large_shortdialogue_predictions.csv\n",
            " baseline_flan_t5_large_shortdialogue_predictions.xlsx\n",
            " led_lora_short_predictions.csv\n",
            " led_lora_short_predictions.xlsx\n"
          ]
        }
      ]
    },
    {
      "cell_type": "code",
      "source": [
        "!ls '/content/drive/MyDrive/Colab Notebooks/w266_Project Ideas/Results/Models/Bio'"
      ],
      "metadata": {
        "colab": {
          "base_uri": "https://localhost:8080/"
        },
        "id": "BT36kkUaZ7hi",
        "outputId": "47e21eeb-93dd-4f28-daad-580ac4167c3b"
      },
      "execution_count": 6,
      "outputs": [
        {
          "output_type": "stream",
          "name": "stdout",
          "text": [
            "flan_t5_base_adj_NER_bio_predictions.csv\n",
            "flan_t5_base_adj_NER_bio_predictions.gsheet\n",
            "flan_t5_base_NER_bio_predictions.csv\n",
            "flan_t5_base_NER_bio_predictions.xlsx\n",
            "flan_t5_large_shortdialogue_NER_bio_predictions.csv\n",
            "flan_t5_large_shortdialogue_NER_bio_predictions.xlsx\n",
            "led_lora_bio_short_unique_predictions.csv\n",
            "led_lora_bio_short_unique_predictions.xlsx\n",
            "Old\n",
            "original_results\n"
          ]
        }
      ]
    },
    {
      "cell_type": "code",
      "source": [
        "!ls '/content/drive/MyDrive/Colab Notebooks/w266_Project Ideas/Results/Models/Clinical'"
      ],
      "metadata": {
        "colab": {
          "base_uri": "https://localhost:8080/"
        },
        "id": "HOMEBK6naV8l",
        "outputId": "69e24a47-0c3f-436c-e800-4ce20a1c1de7"
      },
      "execution_count": 7,
      "outputs": [
        {
          "output_type": "stream",
          "name": "stdout",
          "text": [
            " flan_t5_base_NER_clinical_adj_predictions.csv\n",
            " flan_t5_base_NER_clinical_adj_predictions.xlsx\n",
            " flan_t5_base_NER_clinical_predictions.csv\n",
            " flan_t5_base_NER_clinical_predictions.xlsx\n",
            " flan_t5_large_shortdialogue_NER_clinical_predictions.csv\n",
            " flan_t5_large_shortdialogue_NER_clinical_predictions.xlsx\n",
            " led_lora_clinical_short_unique_predictions.csv\n",
            " led_lora_clinical_short_unique_predictions.xlsx\n",
            "'original results'\n"
          ]
        }
      ]
    },
    {
      "cell_type": "markdown",
      "source": [
        "Load data"
      ],
      "metadata": {
        "id": "sovpihx137Px"
      }
    },
    {
      "cell_type": "code",
      "source": [
        "!ls '/content/drive/MyDrive/Colab Notebooks/w266_Project Ideas/Results/Models/Keybert'"
      ],
      "metadata": {
        "colab": {
          "base_uri": "https://localhost:8080/"
        },
        "id": "5l19jiAxaaM5",
        "outputId": "43ca3a7c-3487-4209-b169-649875239e3f"
      },
      "execution_count": 8,
      "outputs": [
        {
          "output_type": "stream",
          "name": "stdout",
          "text": [
            "flan_t5_base_adj_NER_keybert_predictions.csv\n",
            "flan_t5_base_adj_NER_keybert_predictions.gsheet\n",
            "flan_t5_base_NER_keybert_predictions.csv\n",
            "flan_t5_base_NER_keybert_predictions.xlsx\n",
            "flan_t5_large_shortdialogue_keybert_predictions.csv\n",
            "flan_t5_large_shortdialogue_keybert_predictions.xlsx\n",
            "led_lora_keybert_short_unique_predictions.csv\n",
            "led_lora_keybert_short_unique_predictions.xlsx\n",
            "original_results\n"
          ]
        }
      ]
    },
    {
      "cell_type": "code",
      "source": [
        "# Path to the files\n",
        "flan_t5_base = '/content/drive/MyDrive/Colab Notebooks/w266_Project Ideas/Results/Models/Baselines/baseline_flan_t5_base_shortdialogue_predictions.csv'\n",
        "flan_t5_base_Bio = '/content/drive/MyDrive/Colab Notebooks/w266_Project Ideas/Results/Models/Bio/flan_t5_base_NER_bio_predictions.csv'\n",
        "flan_t5_base_Clinical = '/content/drive/MyDrive/Colab Notebooks/w266_Project Ideas/Results/Models/Clinical/flan_t5_base_NER_clinical_predictions.csv'\n",
        "flan_t5_base_keybert = '/content/drive/MyDrive/Colab Notebooks/w266_Project Ideas/Results/Models/Keybert/flan_t5_base_NER_keybert_predictions.csv'\n",
        "\n",
        "flan_t5_base_adj = '/content/drive/MyDrive/Colab Notebooks/w266_Project Ideas/Results/Models/Baselines/baseline_flan_t5_base_adj_shortdialogue_predictions.csv'\n",
        "flan_t5_base_Bio_adj = '/content/drive/MyDrive/Colab Notebooks/w266_Project Ideas/Results/Models/Bio/flan_t5_base_adj_NER_bio_predictions.csv'\n",
        "flan_t5_base_Clinical_adj = '/content/drive/MyDrive/Colab Notebooks/w266_Project Ideas/Results/Models/Clinical/flan_t5_base_NER_clinical_adj_predictions.csv'\n",
        "flan_t5_base_keybert_adj = '/content/drive/MyDrive/Colab Notebooks/w266_Project Ideas/Results/Models/Keybert/flan_t5_base_adj_NER_keybert_predictions.csv'\n",
        "\n",
        "flan_t5_large = '/content/drive/MyDrive/Colab Notebooks/w266_Project Ideas/Results/Models/Baselines/baseline_flan_t5_large_shortdialogue_predictions.csv'\n",
        "flan_t5_large_Bio = '/content/drive/MyDrive/Colab Notebooks/w266_Project Ideas/Results/Models/Bio/flan_t5_large_shortdialogue_NER_bio_predictions.csv'\n",
        "flan_t5_large_Clinical = '/content/drive/MyDrive/Colab Notebooks/w266_Project Ideas/Results/Models/Clinical/flan_t5_large_shortdialogue_NER_clinical_predictions.csv'\n",
        "flan_t5_large_keybert = '/content/drive/MyDrive/Colab Notebooks/w266_Project Ideas/Results/Models/Keybert/flan_t5_large_shortdialogue_keybert_predictions.csv'\n",
        "\n",
        "LED_large_shortdialogue = '/content/drive/MyDrive/Colab Notebooks/w266_Project Ideas/Results/Models/Baselines/led_lora_short_predictions.csv'\n",
        "LED_large_Bio_short_dialogues = '/content/drive/MyDrive/Colab Notebooks/w266_Project Ideas/Results/Models/Bio/led_lora_bio_short_unique_predictions.csv'\n",
        "LED_large_Clinical_shortdialogue = '/content/drive/MyDrive/Colab Notebooks/w266_Project Ideas/Results/Models/Clinical/led_lora_clinical_short_unique_predictions.csv'\n",
        "LED_large_keybert_shortdialogues = '/content/drive/MyDrive/Colab Notebooks/w266_Project Ideas/Results/Models/Keybert/led_lora_keybert_short_unique_predictions.csv'\n"
      ],
      "metadata": {
        "id": "1qKHmJnbbB4Y"
      },
      "execution_count": 9,
      "outputs": []
    },
    {
      "cell_type": "code",
      "source": [
        "# Load the datasets\n",
        "flan_t5_base_df = pd.read_csv(flan_t5_base)\n",
        "flan_t5_base_Bio_df = pd.read_csv(flan_t5_base_Bio)\n",
        "flan_t5_base_Clinical_df = pd.read_csv(flan_t5_base_Clinical)\n",
        "flan_t5_base_keybert_df = pd.read_csv(flan_t5_base_keybert)\n",
        "\n",
        "flan_t5_base_adj_df = pd.read_csv(flan_t5_base_adj)\n",
        "flan_t5_base_Bio_adj_df = pd.read_csv(flan_t5_base_Bio_adj)\n",
        "flan_t5_base_Clinical_adj_df = pd.read_csv(flan_t5_base_Clinical_adj)\n",
        "flan_t5_base_keybert_adj_df = pd.read_csv(flan_t5_base_keybert_adj)\n",
        "\n",
        "flan_t5_large_df = pd.read_csv(flan_t5_large)\n",
        "flan_t5_large_Bio_df = pd.read_csv(flan_t5_large_Bio)\n",
        "flan_t5_large_Clinical_df = pd.read_csv(flan_t5_large_Clinical)\n",
        "flan_t5_large_keybert_df = pd.read_csv(flan_t5_large_keybert)\n",
        "\n",
        "LED_large_shortdialogue_df = pd.read_csv(LED_large_shortdialogue)\n",
        "LED_large_Bio_short_dialogues_df = pd.read_csv(LED_large_Bio_short_dialogues)\n",
        "LED_large_Clinical_shortdialogue_df = pd.read_csv(LED_large_Clinical_shortdialogue)\n",
        "LED_large_keybert_shortdialogues_df = pd.read_csv(LED_large_keybert_shortdialogues)\n"
      ],
      "metadata": {
        "id": "V4FfT3uwbMw_"
      },
      "execution_count": 12,
      "outputs": []
    },
    {
      "cell_type": "code",
      "source": [
        "# Check shapes\n",
        "print(\"Shape of flan_t5_base:\")\n",
        "print(flan_t5_base_df.shape)\n",
        "\n",
        "print(\"Shape of flan_t5_base_Bio:\")\n",
        "print(flan_t5_base_Bio_df.shape)\n",
        "\n",
        "print(\"Shape of flan_t5_base_Clinical:\")\n",
        "print(flan_t5_base_Clinical_df.shape)\n",
        "\n",
        "print(\"Shape of flan_t5_base_keybert:\")\n",
        "print(flan_t5_base_keybert_df.shape)\n",
        "\n",
        "print(\"\\n\\n\")\n",
        "\n",
        "print(\"Shape of flan_t5_base_adj:\")\n",
        "print(flan_t5_base_adj_df.shape)\n",
        "\n",
        "print(\"Shape of flan_t5_base_Bio:\")\n",
        "print(flan_t5_base_Bio_adj_df.shape)\n",
        "\n",
        "print(\"Shape of flan_t5_base_Clinical:\")\n",
        "print(flan_t5_base_Clinical_adj_df.shape)\n",
        "\n",
        "print(\"Shape of flan_t5_base_keybert:\")\n",
        "print(flan_t5_base_keybert_adj_df.shape)\n",
        "\n",
        "print(\"\\n\\n\")\n",
        "\n",
        "print(\"Shape of flan_t5_large:\")\n",
        "print(flan_t5_large_df.shape)\n",
        "\n",
        "print(\"Shape of flan_t5_large_Bio:\")\n",
        "print(flan_t5_large_Bio_df.shape)\n",
        "\n",
        "print(\"Shape of flan_t5_large_Clinical:\")\n",
        "print(flan_t5_large_Clinical_df.shape)\n",
        "\n",
        "print(\"Shape of flan_t5_large_keybert:\")\n",
        "print(flan_t5_large_keybert_df.shape)\n",
        "\n",
        "print(\"\\n\\n\")\n",
        "\n",
        "print(\"Shape of LED_large_shortdialogue:\")\n",
        "print(LED_large_shortdialogue_df.shape)\n",
        "\n",
        "print(\"Shape of LED_large_Bio_short_dialogues:\")\n",
        "print(LED_large_Bio_short_dialogues_df.shape)\n",
        "\n",
        "print(\"Shape of LED_large_Clinical_shortdialogue:\")\n",
        "print(LED_large_Clinical_shortdialogue_df.shape)\n",
        "\n",
        "print(\"Shape of LED_large_keybert_shortdialogues:\")\n",
        "print(LED_large_keybert_shortdialogues_df.shape)\n"
      ],
      "metadata": {
        "colab": {
          "base_uri": "https://localhost:8080/"
        },
        "id": "QsPXc2UncHcf",
        "outputId": "1141fe36-be1c-4ffe-b145-f5d925726aa1"
      },
      "execution_count": 13,
      "outputs": [
        {
          "output_type": "stream",
          "name": "stdout",
          "text": [
            "Shape of flan_t5_base:\n",
            "(222, 2)\n",
            "Shape of flan_t5_base_Bio:\n",
            "(222, 3)\n",
            "Shape of flan_t5_base_Clinical:\n",
            "(222, 3)\n",
            "Shape of flan_t5_base_keybert:\n",
            "(222, 3)\n",
            "\n",
            "\n",
            "\n",
            "Shape of flan_t5_base_adj:\n",
            "(222, 3)\n",
            "Shape of flan_t5_base_Bio:\n",
            "(222, 3)\n",
            "Shape of flan_t5_base_Clinical:\n",
            "(222, 3)\n",
            "Shape of flan_t5_base_keybert:\n",
            "(222, 3)\n",
            "\n",
            "\n",
            "\n",
            "Shape of flan_t5_large:\n",
            "(222, 3)\n",
            "Shape of flan_t5_large_Bio:\n",
            "(222, 3)\n",
            "Shape of flan_t5_large_Clinical:\n",
            "(222, 3)\n",
            "Shape of flan_t5_large_keybert:\n",
            "(222, 3)\n",
            "\n",
            "\n",
            "\n",
            "Shape of LED_large_shortdialogue:\n",
            "(222, 3)\n",
            "Shape of LED_large_Bio_short_dialogues:\n",
            "(222, 3)\n",
            "Shape of LED_large_Clinical_shortdialogue:\n",
            "(222, 3)\n",
            "Shape of LED_large_keybert_shortdialogues:\n",
            "(222, 3)\n"
          ]
        }
      ]
    },
    {
      "cell_type": "markdown",
      "source": [
        "Display for two row for flan_t5_base"
      ],
      "metadata": {
        "id": "ibkcIbuzc2u8"
      }
    },
    {
      "cell_type": "code",
      "source": [
        "# Display the first two rows of each DataFrame\n",
        "print(\"First 2 rows of flan_t5_base:\")\n",
        "print(flan_t5_base_df.head(2))\n",
        "\n",
        "print(\"First 2 rows of flan_t5_base_Bio:\")\n",
        "print(flan_t5_base_Bio_df.head(2))\n",
        "\n",
        "print(\"First 2 rows of flan_t5_base_Clinical:\")\n",
        "print(flan_t5_base_Clinical_df.head(2))\n",
        "\n",
        "print(\"First 2 rows of flan_t5_base_keybert:\")\n",
        "print(flan_t5_base_keybert_df.head(2))"
      ],
      "metadata": {
        "id": "IoKvgRx933Z3",
        "colab": {
          "base_uri": "https://localhost:8080/"
        },
        "outputId": "f9f857ce-b4fb-4db7-b459-497fb561c6a4"
      },
      "execution_count": 14,
      "outputs": [
        {
          "output_type": "stream",
          "name": "stdout",
          "text": [
            "First 2 rows of flan_t5_base:\n",
            "                                           Reference  \\\n",
            "0  The patient lives with her husband of 48 years...   \n",
            "1  ONCOLOGIC: No history of any cancer, change in...   \n",
            "\n",
            "                                          Prediction  \n",
            "0  The patient is married. She lives in the same ...  \n",
            "1  No change in moles, no change in moles, no sud...  \n",
            "First 2 rows of flan_t5_base_Bio:\n",
            "                                            Dialogue  \\\n",
            "0  Doctor: Hi, there. Patient: Hi. Guest_family: ...   \n",
            "1  Doctor: Were you ever diagnosed with any kind ...   \n",
            "\n",
            "                                           Reference  \\\n",
            "0  The patient lives with her husband of 48 years...   \n",
            "1  ONCOLOGIC: No history of any cancer, change in...   \n",
            "\n",
            "                                          Prediction  \n",
            "0  The patient is a 40-year-old male who lives in...  \n",
            "1  No cancer. No rashes, changes in moles, or wei...  \n",
            "First 2 rows of flan_t5_base_Clinical:\n",
            "                                           Dialogies  \\\n",
            "0  Doctor: Hi, there. Patient: Hi. Guest_family: ...   \n",
            "1  Doctor: Were you ever diagnosed with any kind ...   \n",
            "\n",
            "                                           Reference  \\\n",
            "0  The patient lives with her husband of 48 years...   \n",
            "1  ONCOLOGIC: No history of any cancer, change in...   \n",
            "\n",
            "                                          Prediction  \n",
            "0  The patient is a 40-year-old male who lives in...  \n",
            "1   No rashes, moles, or sudden weight loss history.  \n",
            "First 2 rows of flan_t5_base_keybert:\n",
            "                                           Dialogues  \\\n",
            "0  Doctor: Hi, there. Patient: Hi. Guest_family: ...   \n",
            "1  Doctor: Were you ever diagnosed with any kind ...   \n",
            "\n",
            "                                           Reference  \\\n",
            "0  The patient lives with her husband of 48 years...   \n",
            "1  ONCOLOGIC: No history of any cancer, change in...   \n",
            "\n",
            "                                          Prediction  \n",
            "0  The patient is a 40-year-old male who lives in...  \n",
            "1              No cancer. No rashes. No weight loss.  \n"
          ]
        }
      ]
    },
    {
      "cell_type": "markdown",
      "source": [
        "Display for two row for flan_t5_base adj (finetuned)"
      ],
      "metadata": {
        "id": "pBxuHHow7AgL"
      }
    },
    {
      "cell_type": "code",
      "source": [
        "# Display the first two rows of each DataFrame\n",
        "print(\"First 2 rows of flan_t5_base:\")\n",
        "print(flan_t5_base_adj_df.head(2))\n",
        "\n",
        "print(\"First 2 rows of flan_t5_base_Bio:\")\n",
        "print(flan_t5_base_Bio_adj_df.head(2))\n",
        "\n",
        "print(\"First 2 rows of flan_t5_base_Clinical:\")\n",
        "print(flan_t5_base_Clinical_adj_df.head(2))\n",
        "\n",
        "print(\"First 2 rows of flan_t5_base_keybert:\")\n",
        "print(flan_t5_base_keybert_adj_df.head(2))"
      ],
      "metadata": {
        "colab": {
          "base_uri": "https://localhost:8080/"
        },
        "id": "IF0oOLKp7AxN",
        "outputId": "e58de100-7c72-4474-a3ab-f6a316dcfeb1"
      },
      "execution_count": 15,
      "outputs": [
        {
          "output_type": "stream",
          "name": "stdout",
          "text": [
            "First 2 rows of flan_t5_base:\n",
            "                                            Dialogue  \\\n",
            "0  Doctor: Hi, there. Patient: Hi. Guest_family: ...   \n",
            "1  Doctor: Were you ever diagnosed with any kind ...   \n",
            "\n",
            "                                           Reference  \\\n",
            "0  The patient lives with her husband of 48 years...   \n",
            "1  ONCOLOGIC: No history of any cancer, change in...   \n",
            "\n",
            "                                          Prediction  \n",
            "0  The patient is married. She lives in the same ...  \n",
            "1  The patient denies any cancer, rashes, changes...  \n",
            "First 2 rows of flan_t5_base_Bio:\n",
            "                                            Dialogue  \\\n",
            "0  Doctor: Hi, there. Patient: Hi. Guest_family: ...   \n",
            "1  Doctor: Were you ever diagnosed with any kind ...   \n",
            "\n",
            "                                           Reference  \\\n",
            "0  The patient lives with her husband of 48 years...   \n",
            "1  ONCOLOGIC: No history of any cancer, change in...   \n",
            "\n",
            "                                          Prediction  \n",
            "0  The patient is married for forty-eight years. ...  \n",
            "1  The patient is a non-cancer patient. She has n...  \n",
            "First 2 rows of flan_t5_base_Clinical:\n",
            "                                           Dialogues  \\\n",
            "0  Doctor: Hi, there. Patient: Hi. Guest_family: ...   \n",
            "1  Doctor: Were you ever diagnosed with any kind ...   \n",
            "\n",
            "                                           Reference  \\\n",
            "0  The patient lives with her husband of 48 years...   \n",
            "1  ONCOLOGIC: No history of any cancer, change in...   \n",
            "\n",
            "                                          Prediction  \n",
            "0  The patient is a 40-year-old male who lives in...  \n",
            "1  No cancer. No rashes, moles, or sudden weight ...  \n",
            "First 2 rows of flan_t5_base_keybert:\n",
            "                                           Dialogues  \\\n",
            "0  Doctor: Hi, there. Patient: Hi. Guest_family: ...   \n",
            "1  Doctor: Were you ever diagnosed with any kind ...   \n",
            "\n",
            "                                           Reference  \\\n",
            "0  The patient lives with her husband of 48 years...   \n",
            "1  ONCOLOGIC: No history of any cancer, change in...   \n",
            "\n",
            "                                          Prediction  \n",
            "0  The patient is married for 40 years. She lives...  \n",
            "1       No cancer. No rashes, moles, or weight loss.  \n"
          ]
        }
      ]
    },
    {
      "cell_type": "markdown",
      "source": [
        "Display for two row for flan_t5_large"
      ],
      "metadata": {
        "id": "GgiYqwH5c9IZ"
      }
    },
    {
      "cell_type": "code",
      "source": [
        "print(\"First 2 rows of flan_t5_large:\")\n",
        "print(flan_t5_large_df.head(2))\n",
        "\n",
        "print(\"First 2 rows of flan_t5_large_Bio:\")\n",
        "print(flan_t5_large_Bio_df.head(2))\n",
        "\n",
        "print(\"First 2 rows of flan_t5_large_Clinical:\")\n",
        "print(flan_t5_large_Clinical_df.head(2))\n",
        "\n",
        "print(\"First 2 rows of flan_t5_large_keybert:\")\n",
        "print(flan_t5_large_keybert_df.head(2))\n"
      ],
      "metadata": {
        "id": "EGjyOQZJ33cv",
        "colab": {
          "base_uri": "https://localhost:8080/"
        },
        "outputId": "4062cdd6-a7ea-4e66-a3a5-866b889bdd65"
      },
      "execution_count": 17,
      "outputs": [
        {
          "output_type": "stream",
          "name": "stdout",
          "text": [
            "First 2 rows of flan_t5_large:\n",
            "                                           Dialogues  \\\n",
            "0  Doctor: Hi, there. Patient: Hi. Guest_family: ...   \n",
            "1  Doctor: Were you ever diagnosed with any kind ...   \n",
            "\n",
            "                                           Reference  \\\n",
            "0  The patient lives with her husband of 48 years...   \n",
            "1  ONCOLOGIC: No history of any cancer, change in...   \n",
            "\n",
            "                                          Prediction  \n",
            "0  The patient is married. She lives with her hus...  \n",
            "1  Noncontributory. No history of cancer, rashes,...  \n",
            "First 2 rows of flan_t5_large_Bio:\n",
            "                                            Dialogue  \\\n",
            "0  Doctor: Hi, there. Patient: Hi. Guest_family: ...   \n",
            "1  Doctor: Were you ever diagnosed with any kind ...   \n",
            "\n",
            "                                           Reference  \\\n",
            "0  The patient lives with her husband of 48 years...   \n",
            "1  ONCOLOGIC: No history of any cancer, change in...   \n",
            "\n",
            "                                          Prediction  \n",
            "0  The patient is a 48-year-old married female wh...  \n",
            "1  The patient has no history of cancer, rashes, ...  \n",
            "First 2 rows of flan_t5_large_Clinical:\n",
            "                                            Dialogue  \\\n",
            "0  Doctor: Hi, there. Patient: Hi. Guest_family: ...   \n",
            "1  Doctor: Were you ever diagnosed with any kind ...   \n",
            "\n",
            "                                           Reference  \\\n",
            "0  The patient lives with her husband of 48 years...   \n",
            "1  ONCOLOGIC: No history of any cancer, change in...   \n",
            "\n",
            "                                          Prediction  \n",
            "0  The patient is a 48-year-old married female wh...  \n",
            "1  The patient has no history of cancer, rashes, ...  \n",
            "First 2 rows of flan_t5_large_keybert:\n",
            "                                            Dialogue  \\\n",
            "0  Doctor: Hi, there. Patient: Hi. Guest_family: ...   \n",
            "1  Doctor: Were you ever diagnosed with any kind ...   \n",
            "\n",
            "                                           Reference  \\\n",
            "0  The patient lives with her husband of 48 years...   \n",
            "1  ONCOLOGIC: No history of any cancer, change in...   \n",
            "\n",
            "                                          Prediction  \n",
            "0  The patient is a 48-year-old female who lives ...  \n",
            "1  The patient has no history of cancer, rashes, ...  \n"
          ]
        }
      ]
    },
    {
      "cell_type": "markdown",
      "source": [
        "Display for two row for LED LORA large"
      ],
      "metadata": {
        "id": "i38JQMzhdEJS"
      }
    },
    {
      "cell_type": "code",
      "source": [
        "print(\"First 2 rows of LED_large_shortdialogue:\")\n",
        "print(LED_large_shortdialogue_df.head(2))\n",
        "\n",
        "print(\"First 2 rows of LED_large_Bio_short_dialogues:\")\n",
        "print(LED_large_Bio_short_dialogues_df.head(2))\n",
        "\n",
        "print(\"First 2 rows of LED_large_Clinical_shortdialogue:\")\n",
        "print(LED_large_Clinical_shortdialogue_df.head(2))\n",
        "\n",
        "print(\"First 2 rows of LED_large_keybert_shortdialogues:\")\n",
        "print(LED_large_keybert_shortdialogues_df.head(2))"
      ],
      "metadata": {
        "id": "KSU-r_Lw33e9",
        "colab": {
          "base_uri": "https://localhost:8080/"
        },
        "outputId": "44cf2fa9-6526-48b9-bebb-d4dc90aa359f"
      },
      "execution_count": 18,
      "outputs": [
        {
          "output_type": "stream",
          "name": "stdout",
          "text": [
            "First 2 rows of LED_large_shortdialogue:\n",
            "                                            Dialogue  \\\n",
            "0  Doctor: Hi, there. Patient: Hi. Guest_family: ...   \n",
            "1  Doctor: Were you ever diagnosed with any kind ...   \n",
            "\n",
            "                                           Reference  \\\n",
            "0  The patient lives with her husband of 48 years...   \n",
            "1  ONCOLOGIC: No history of any cancer, change in...   \n",
            "\n",
            "                                          Prediction  \n",
            "0  The husband and wife have been married for for...  \n",
            "1  The patient has no history of cancer in the pa...  \n",
            "First 2 rows of LED_large_Bio_short_dialogues:\n",
            "                                            Dialogue  \\\n",
            "0  Doctor: Hi, there. Patient: Hi. Guest_family: ...   \n",
            "1  Doctor: Were you ever diagnosed with any kind ...   \n",
            "\n",
            "                                           Reference  \\\n",
            "0  The patient lives with her husband of 48 years...   \n",
            "1  ONCOLOGIC: No history of any cancer, change in...   \n",
            "\n",
            "                                          Prediction  \n",
            "0  The husband and wife have been married for for...  \n",
            "1  The patient was diagnosed with cancer in the p...  \n",
            "First 2 rows of LED_large_Clinical_shortdialogue:\n",
            "                                            Dialogue  \\\n",
            "0  Doctor: Hi, there. Patient: Hi. Guest_family: ...   \n",
            "1  Doctor: Were you ever diagnosed with any kind ...   \n",
            "\n",
            "                                           Reference  \\\n",
            "0  The patient lives with her husband of 48 years...   \n",
            "1  ONCOLOGIC: No history of any cancer, change in...   \n",
            "\n",
            "                                          Prediction  \n",
            "0  The wife has been self-prescribing for minor i...  \n",
            "1  The patient was diagnosed with any kind of can...  \n",
            "First 2 rows of LED_large_keybert_shortdialogues:\n",
            "                                            Dialogue  \\\n",
            "0  Doctor: Hi, there. Patient: Hi. Guest_family: ...   \n",
            "1  Doctor: Were you ever diagnosed with any kind ...   \n",
            "\n",
            "                                           Reference  \\\n",
            "0  The patient lives with her husband of 48 years...   \n",
            "1  ONCOLOGIC: No history of any cancer, change in...   \n",
            "\n",
            "                                          Prediction  \n",
            "0  The wife has a pattern of self-prescribing for...  \n",
            "1  Disease history, cancer past, sudden weight lo...  \n"
          ]
        }
      ]
    },
    {
      "cell_type": "markdown",
      "source": [
        "Show dialogue and reference list for Flan_T5_base"
      ],
      "metadata": {
        "id": "7HtIFV2DJGP4"
      }
    },
    {
      "cell_type": "code",
      "source": [
        "reference_ft5_base = flan_t5_base_df[\"Reference\"].tolist()"
      ],
      "metadata": {
        "id": "HSs3UnbUdkjv"
      },
      "execution_count": 19,
      "outputs": []
    },
    {
      "cell_type": "code",
      "source": [
        "len(reference_ft5_base)"
      ],
      "metadata": {
        "id": "nac3Fy7IKyeB",
        "colab": {
          "base_uri": "https://localhost:8080/"
        },
        "outputId": "e55cc55b-36f5-420c-f765-8c9ec7c39627"
      },
      "execution_count": 20,
      "outputs": [
        {
          "output_type": "execute_result",
          "data": {
            "text/plain": [
              "222"
            ]
          },
          "metadata": {},
          "execution_count": 20
        }
      ]
    },
    {
      "cell_type": "code",
      "source": [
        "Flan_t5_base_baseline_predictions = flan_t5_base_df[\"Prediction\"].tolist()"
      ],
      "metadata": {
        "id": "-K-efvgsKyoL"
      },
      "execution_count": 21,
      "outputs": []
    },
    {
      "cell_type": "code",
      "source": [
        "len(Flan_t5_base_baseline_predictions)"
      ],
      "metadata": {
        "id": "Fxz2i8hVKyrT",
        "colab": {
          "base_uri": "https://localhost:8080/"
        },
        "outputId": "41f8aa9d-e55d-48ac-feef-59c25c76befe"
      },
      "execution_count": 22,
      "outputs": [
        {
          "output_type": "execute_result",
          "data": {
            "text/plain": [
              "222"
            ]
          },
          "metadata": {},
          "execution_count": 22
        }
      ]
    },
    {
      "cell_type": "code",
      "source": [
        "Flan_t5_base_Bio_predictions = flan_t5_base_Bio_df[\"Prediction\"].tolist()"
      ],
      "metadata": {
        "id": "9b7LHJsoKytn"
      },
      "execution_count": 23,
      "outputs": []
    },
    {
      "cell_type": "code",
      "source": [
        "len(Flan_t5_base_Bio_predictions)"
      ],
      "metadata": {
        "id": "HoAuv0DELbwc",
        "colab": {
          "base_uri": "https://localhost:8080/"
        },
        "outputId": "d82ec5bf-e224-476c-acd5-13292e37cb87"
      },
      "execution_count": 24,
      "outputs": [
        {
          "output_type": "execute_result",
          "data": {
            "text/plain": [
              "222"
            ]
          },
          "metadata": {},
          "execution_count": 24
        }
      ]
    },
    {
      "cell_type": "code",
      "source": [
        "Flan_t5_base_Clinical_predictions = flan_t5_base_Clinical_df[\"Prediction\"].tolist()"
      ],
      "metadata": {
        "id": "r7E-N39VLeOq"
      },
      "execution_count": 25,
      "outputs": []
    },
    {
      "cell_type": "code",
      "source": [
        "len(Flan_t5_base_Clinical_predictions)"
      ],
      "metadata": {
        "id": "EZ_sh5dlLeV-",
        "colab": {
          "base_uri": "https://localhost:8080/"
        },
        "outputId": "c60c7f3d-2a9e-4f07-a4db-ab2a757676ac"
      },
      "execution_count": 26,
      "outputs": [
        {
          "output_type": "execute_result",
          "data": {
            "text/plain": [
              "222"
            ]
          },
          "metadata": {},
          "execution_count": 26
        }
      ]
    },
    {
      "cell_type": "code",
      "source": [
        "Flan_T5_base_KeyBert_predictions = flan_t5_base_keybert_df[\"Prediction\"].tolist()"
      ],
      "metadata": {
        "id": "aHmMbjGILmay"
      },
      "execution_count": 27,
      "outputs": []
    },
    {
      "cell_type": "code",
      "source": [
        "len(Flan_T5_base_KeyBert_predictions)"
      ],
      "metadata": {
        "id": "rZd3BBgFLmeJ",
        "colab": {
          "base_uri": "https://localhost:8080/"
        },
        "outputId": "88bae6b6-a232-4e13-d547-577cdcc3e5f1"
      },
      "execution_count": 28,
      "outputs": [
        {
          "output_type": "execute_result",
          "data": {
            "text/plain": [
              "222"
            ]
          },
          "metadata": {},
          "execution_count": 28
        }
      ]
    },
    {
      "cell_type": "markdown",
      "source": [
        "Show dialogue and reference list for Flan_T5_base adj (finetuned)"
      ],
      "metadata": {
        "id": "sTVHZhup7-L1"
      }
    },
    {
      "cell_type": "code",
      "source": [
        "reference_ft5_base_adj = flan_t5_base_adj_df[\"Reference\"].tolist()"
      ],
      "metadata": {
        "id": "6X-gOfXD8CP1"
      },
      "execution_count": 29,
      "outputs": []
    },
    {
      "cell_type": "code",
      "source": [
        "len(reference_ft5_base_adj)"
      ],
      "metadata": {
        "colab": {
          "base_uri": "https://localhost:8080/"
        },
        "id": "xAhYnzaY8Cbj",
        "outputId": "e645f706-4a2c-468e-b83a-0e7ba1b8703a"
      },
      "execution_count": 30,
      "outputs": [
        {
          "output_type": "execute_result",
          "data": {
            "text/plain": [
              "222"
            ]
          },
          "metadata": {},
          "execution_count": 30
        }
      ]
    },
    {
      "cell_type": "code",
      "source": [
        "Flan_t5_base_baseline_predictions_adj = flan_t5_base_adj_df[\"Prediction\"].tolist()"
      ],
      "metadata": {
        "id": "FvaA8xOh8CjE"
      },
      "execution_count": 31,
      "outputs": []
    },
    {
      "cell_type": "code",
      "source": [
        "len(Flan_t5_base_baseline_predictions_adj)"
      ],
      "metadata": {
        "colab": {
          "base_uri": "https://localhost:8080/"
        },
        "id": "pMsd9iVt8Cpm",
        "outputId": "0cd30d5e-d76b-4bd5-fb30-d942fb90caa6"
      },
      "execution_count": 32,
      "outputs": [
        {
          "output_type": "execute_result",
          "data": {
            "text/plain": [
              "222"
            ]
          },
          "metadata": {},
          "execution_count": 32
        }
      ]
    },
    {
      "cell_type": "code",
      "source": [
        "Flan_t5_base_Bio_predictions_adj = flan_t5_base_Bio_adj_df[\"Prediction\"].tolist()"
      ],
      "metadata": {
        "id": "e8LmjqhD8Cwr"
      },
      "execution_count": 33,
      "outputs": []
    },
    {
      "cell_type": "code",
      "source": [
        "len(Flan_t5_base_Bio_predictions_adj)"
      ],
      "metadata": {
        "colab": {
          "base_uri": "https://localhost:8080/"
        },
        "id": "dg7gA26L8C3D",
        "outputId": "2226c60d-c4f0-473a-86ed-e3a555d989b3"
      },
      "execution_count": 34,
      "outputs": [
        {
          "output_type": "execute_result",
          "data": {
            "text/plain": [
              "222"
            ]
          },
          "metadata": {},
          "execution_count": 34
        }
      ]
    },
    {
      "cell_type": "code",
      "source": [
        "Flan_t5_base_Clinical_predictions_adj = flan_t5_base_Clinical_adj_df[\"Prediction\"].tolist()"
      ],
      "metadata": {
        "id": "IoNRhRtJ8C-T"
      },
      "execution_count": 35,
      "outputs": []
    },
    {
      "cell_type": "code",
      "source": [
        "len(Flan_t5_base_Clinical_predictions_adj)"
      ],
      "metadata": {
        "colab": {
          "base_uri": "https://localhost:8080/"
        },
        "id": "1XJyfxPG8DFS",
        "outputId": "6373a08c-0b1e-4a70-8899-8ec8e5ac62bc"
      },
      "execution_count": 36,
      "outputs": [
        {
          "output_type": "execute_result",
          "data": {
            "text/plain": [
              "222"
            ]
          },
          "metadata": {},
          "execution_count": 36
        }
      ]
    },
    {
      "cell_type": "code",
      "source": [
        "Flan_T5_base_KeyBert_predictions_adj = flan_t5_base_keybert_adj_df[\"Prediction\"].tolist()"
      ],
      "metadata": {
        "id": "XYSpYm0A8DMa"
      },
      "execution_count": 37,
      "outputs": []
    },
    {
      "cell_type": "code",
      "source": [
        "len(Flan_T5_base_KeyBert_predictions_adj)"
      ],
      "metadata": {
        "colab": {
          "base_uri": "https://localhost:8080/"
        },
        "id": "Vk0bZs4B8DTn",
        "outputId": "650e67ce-680f-440b-eaf8-c9af441756d1"
      },
      "execution_count": 38,
      "outputs": [
        {
          "output_type": "execute_result",
          "data": {
            "text/plain": [
              "222"
            ]
          },
          "metadata": {},
          "execution_count": 38
        }
      ]
    },
    {
      "cell_type": "markdown",
      "source": [
        "Show dialogue and reference list for Flan_T5_large"
      ],
      "metadata": {
        "id": "Vuj7ARyNL1a8"
      }
    },
    {
      "cell_type": "code",
      "source": [
        "reference_ft5_large = flan_t5_large_df[\"Reference\"].tolist()"
      ],
      "metadata": {
        "id": "grgR9TvlMCXS"
      },
      "execution_count": 39,
      "outputs": []
    },
    {
      "cell_type": "code",
      "source": [
        "len(reference_ft5_large)"
      ],
      "metadata": {
        "id": "qIPZ1ChlMCfJ",
        "colab": {
          "base_uri": "https://localhost:8080/"
        },
        "outputId": "d4c925e4-e0c0-4df0-858f-32c1dd83cb46"
      },
      "execution_count": 40,
      "outputs": [
        {
          "output_type": "execute_result",
          "data": {
            "text/plain": [
              "222"
            ]
          },
          "metadata": {},
          "execution_count": 40
        }
      ]
    },
    {
      "cell_type": "code",
      "source": [
        "Flan_t5_large_baseline_predictions = flan_t5_large_df[\"Prediction\"].tolist()"
      ],
      "metadata": {
        "id": "eSkKebiRMCit"
      },
      "execution_count": 41,
      "outputs": []
    },
    {
      "cell_type": "code",
      "source": [
        "len(Flan_t5_large_baseline_predictions)"
      ],
      "metadata": {
        "id": "4Dhz1I5SMCle"
      },
      "execution_count": null,
      "outputs": []
    },
    {
      "cell_type": "code",
      "source": [
        "Flan_t5_large_Bio_predictions = flan_t5_large_Bio_df[\"Prediction\"].tolist()"
      ],
      "metadata": {
        "id": "FU5Ye2AIMCof"
      },
      "execution_count": 42,
      "outputs": []
    },
    {
      "cell_type": "code",
      "source": [
        "len(Flan_t5_large_Bio_predictions)"
      ],
      "metadata": {
        "id": "N0IIsZ8aMCv6",
        "colab": {
          "base_uri": "https://localhost:8080/"
        },
        "outputId": "4ac78cca-1a61-4bf0-c8b0-c2dba1e06659"
      },
      "execution_count": 43,
      "outputs": [
        {
          "output_type": "execute_result",
          "data": {
            "text/plain": [
              "222"
            ]
          },
          "metadata": {},
          "execution_count": 43
        }
      ]
    },
    {
      "cell_type": "code",
      "source": [
        "Flan_t5_large_Clinical_predictions = flan_t5_large_Clinical_df[\"Prediction\"].tolist()"
      ],
      "metadata": {
        "id": "m7YNdLhWMCzu"
      },
      "execution_count": 44,
      "outputs": []
    },
    {
      "cell_type": "code",
      "source": [
        "len(Flan_t5_large_Clinical_predictions)"
      ],
      "metadata": {
        "id": "raQznDtMMC58",
        "colab": {
          "base_uri": "https://localhost:8080/"
        },
        "outputId": "bb952c57-a104-4636-9ef4-1cf9348afe88"
      },
      "execution_count": 45,
      "outputs": [
        {
          "output_type": "execute_result",
          "data": {
            "text/plain": [
              "222"
            ]
          },
          "metadata": {},
          "execution_count": 45
        }
      ]
    },
    {
      "cell_type": "code",
      "source": [
        "Flan_T5_large_KeyBert_predictions = flan_t5_large_keybert_df[\"Prediction\"].tolist()"
      ],
      "metadata": {
        "id": "I3zLd9zoMC-J"
      },
      "execution_count": 46,
      "outputs": []
    },
    {
      "cell_type": "code",
      "source": [
        "len(Flan_T5_large_KeyBert_predictions)"
      ],
      "metadata": {
        "id": "kdlq8ewMMDAv",
        "colab": {
          "base_uri": "https://localhost:8080/"
        },
        "outputId": "946d3643-cf12-4515-8aba-7ae2a97bb320"
      },
      "execution_count": 47,
      "outputs": [
        {
          "output_type": "execute_result",
          "data": {
            "text/plain": [
              "222"
            ]
          },
          "metadata": {},
          "execution_count": 47
        }
      ]
    },
    {
      "cell_type": "markdown",
      "source": [
        "Show dialogue and reference list for LED_LORA (large)"
      ],
      "metadata": {
        "id": "p47geonoMii5"
      }
    },
    {
      "cell_type": "code",
      "source": [
        "reference_LED_LORA_large_baseline_shortdialogue = LED_large_shortdialogue_df[\"Reference\"].tolist()"
      ],
      "metadata": {
        "id": "hxDwPd51MDCj"
      },
      "execution_count": 48,
      "outputs": []
    },
    {
      "cell_type": "code",
      "source": [
        "len(reference_LED_LORA_large_baseline_shortdialogue)"
      ],
      "metadata": {
        "id": "-NjyTZeZMDFI",
        "colab": {
          "base_uri": "https://localhost:8080/"
        },
        "outputId": "cbd9ed60-0ffb-42d3-dc74-3da56f056e9f"
      },
      "execution_count": 49,
      "outputs": [
        {
          "output_type": "execute_result",
          "data": {
            "text/plain": [
              "222"
            ]
          },
          "metadata": {},
          "execution_count": 49
        }
      ]
    },
    {
      "cell_type": "code",
      "source": [
        "LED_LORA_large_shortdialogue_predictions = LED_large_shortdialogue_df[\"Prediction\"].tolist()"
      ],
      "metadata": {
        "id": "SPG1bBvuOnIt"
      },
      "execution_count": 50,
      "outputs": []
    },
    {
      "cell_type": "code",
      "source": [
        "len(LED_LORA_large_shortdialogue_predictions)"
      ],
      "metadata": {
        "id": "jljT6dnWOnLd",
        "colab": {
          "base_uri": "https://localhost:8080/"
        },
        "outputId": "4a9a10d1-9510-447f-90b5-34f3f4184258"
      },
      "execution_count": 51,
      "outputs": [
        {
          "output_type": "execute_result",
          "data": {
            "text/plain": [
              "222"
            ]
          },
          "metadata": {},
          "execution_count": 51
        }
      ]
    },
    {
      "cell_type": "code",
      "source": [
        "LED_LORA_large_shortdialogue_Bio_predictions = LED_large_Bio_short_dialogues_df[\"Prediction\"].tolist()"
      ],
      "metadata": {
        "id": "RzepICoxMDGV"
      },
      "execution_count": 52,
      "outputs": []
    },
    {
      "cell_type": "code",
      "source": [
        "len(LED_LORA_large_shortdialogue_Bio_predictions)"
      ],
      "metadata": {
        "id": "Ao-G5xddMDJF",
        "colab": {
          "base_uri": "https://localhost:8080/"
        },
        "outputId": "d5469458-b61e-4f9c-e22d-e38371869fa1"
      },
      "execution_count": 53,
      "outputs": [
        {
          "output_type": "execute_result",
          "data": {
            "text/plain": [
              "222"
            ]
          },
          "metadata": {},
          "execution_count": 53
        }
      ]
    },
    {
      "cell_type": "code",
      "source": [
        "LED_LORA_large_shortdialogue_Clinical_predictions = LED_large_Clinical_shortdialogue_df[\"Prediction\"].tolist()"
      ],
      "metadata": {
        "id": "X5xUsCzlMDLq"
      },
      "execution_count": 54,
      "outputs": []
    },
    {
      "cell_type": "code",
      "source": [
        "len(LED_LORA_large_shortdialogue_Clinical_predictions)"
      ],
      "metadata": {
        "id": "Cn90oG7lMDQ3",
        "colab": {
          "base_uri": "https://localhost:8080/"
        },
        "outputId": "8e08fa55-a4c9-4d15-f283-157607e6fd56"
      },
      "execution_count": 55,
      "outputs": [
        {
          "output_type": "execute_result",
          "data": {
            "text/plain": [
              "222"
            ]
          },
          "metadata": {},
          "execution_count": 55
        }
      ]
    },
    {
      "cell_type": "code",
      "source": [
        "LED_LORA_large_shortdialogue_keybert_predictions = LED_large_keybert_shortdialogues_df[\"Prediction\"].tolist()"
      ],
      "metadata": {
        "id": "YjdZPrVSPMO0"
      },
      "execution_count": 56,
      "outputs": []
    },
    {
      "cell_type": "code",
      "source": [
        "len(LED_LORA_large_shortdialogue_keybert_predictions)"
      ],
      "metadata": {
        "id": "Nh6aVCcAPMSZ",
        "colab": {
          "base_uri": "https://localhost:8080/"
        },
        "outputId": "395a7b03-b822-49d7-b781-b9bbfcc6b8ca"
      },
      "execution_count": 57,
      "outputs": [
        {
          "output_type": "execute_result",
          "data": {
            "text/plain": [
              "222"
            ]
          },
          "metadata": {},
          "execution_count": 57
        }
      ]
    },
    {
      "cell_type": "markdown",
      "source": [
        "Rouge Scores - Flan_T5 base on short dialogues"
      ],
      "metadata": {
        "id": "FJGGj2SaQ2i5"
      }
    },
    {
      "cell_type": "code",
      "source": [
        "from rouge_score import rouge_scorer\n",
        "\n",
        "# Instantiate ROUGE scorer\n",
        "scorer = rouge_scorer.RougeScorer(['rouge1', 'rouge2', 'rougeL'], use_stemmer=True)\n",
        "\n",
        "# Initialize lists to store individual scores\n",
        "rouge1_recall = []\n",
        "rouge1_precision = []\n",
        "rouge1_f1 = []\n",
        "rouge2_recall = []\n",
        "rouge2_precision = []\n",
        "rouge2_f1 = []\n",
        "rougeL_recall = []\n",
        "rougeL_precision = []\n",
        "rougeL_f1 = []\n",
        "\n",
        "# Compute ROUGE scores for each pair of prediction and reference\n",
        "for pred, ref in zip(Flan_t5_base_baseline_predictions, reference_ft5_base):\n",
        "    score = scorer.score(pred, ref)\n",
        "    rouge1_recall.append(score['rouge1'].recall)\n",
        "    rouge1_precision.append(score['rouge1'].precision)\n",
        "    rouge1_f1.append(score['rouge1'].fmeasure)\n",
        "    rouge2_recall.append(score['rouge2'].recall)\n",
        "    rouge2_precision.append(score['rouge2'].precision)\n",
        "    rouge2_f1.append(score['rouge2'].fmeasure)\n",
        "    rougeL_recall.append(score['rougeL'].recall)\n",
        "    rougeL_precision.append(score['rougeL'].precision)\n",
        "    rougeL_f1.append(score['rougeL'].fmeasure)\n",
        "\n",
        "# Calculate average ROUGE scores\n",
        "avg_rouge1_recall_baseline = sum(rouge1_recall) / len(rouge1_recall)\n",
        "avg_rouge1_precision_baseline = sum(rouge1_precision) / len(rouge1_precision)\n",
        "avg_rouge1_f1_baseline = sum(rouge1_f1) / len(rouge1_f1)\n",
        "avg_rouge2_recall_baseline = sum(rouge2_recall) / len(rouge2_recall)\n",
        "avg_rouge2_precision_baseline = sum(rouge2_precision) / len(rouge2_precision)\n",
        "avg_rouge2_f1_baseline = sum(rouge2_f1) / len(rouge2_f1)\n",
        "avg_rougeL_recall_baseline = sum(rougeL_recall) / len(rougeL_recall)\n",
        "avg_rougeL_precision_baseline = sum(rougeL_precision) / len(rougeL_precision)\n",
        "avg_rougeL_f1_baseline = sum(rougeL_f1) / len(rougeL_f1)\n",
        "\n",
        "# Print average ROUGE scores\n",
        "print(f\"Average ROUGE-1 Recall: {avg_rouge1_recall_baseline:.4f}\")\n",
        "print(f\"Average ROUGE-1 Precision: {avg_rouge1_precision_baseline:.4f}\")\n",
        "print(f\"Average ROUGE-1 F1: {avg_rouge1_f1_baseline:.4f}\")\n",
        "print(f\"Average ROUGE-2 Recall: {avg_rouge2_recall_baseline:.4f}\")\n",
        "print(f\"Average ROUGE-2 Precision: {avg_rouge2_precision_baseline:.4f}\")\n",
        "print(f\"Average ROUGE-2 F1: {avg_rouge2_f1_baseline:.4f}\")\n",
        "print(f\"Average ROUGE-L Recall: {avg_rougeL_recall_baseline:.4f}\")\n",
        "print(f\"Average ROUGE-L Precision: {avg_rougeL_precision_baseline:.4f}\")\n",
        "print(f\"Average ROUGE-L F1: {avg_rougeL_f1_baseline:.4f}\")\n"
      ],
      "metadata": {
        "colab": {
          "base_uri": "https://localhost:8080/"
        },
        "id": "iZWvXKxHgS8o",
        "outputId": "c1c289a3-ef5b-40bf-bef7-d9bfccc70506"
      },
      "execution_count": 58,
      "outputs": [
        {
          "output_type": "stream",
          "name": "stdout",
          "text": [
            "Average ROUGE-1 Recall: 0.5049\n",
            "Average ROUGE-1 Precision: 0.2601\n",
            "Average ROUGE-1 F1: 0.2896\n",
            "Average ROUGE-2 Recall: 0.2385\n",
            "Average ROUGE-2 Precision: 0.1016\n",
            "Average ROUGE-2 F1: 0.1218\n",
            "Average ROUGE-L Recall: 0.4325\n",
            "Average ROUGE-L Precision: 0.2302\n",
            "Average ROUGE-L F1: 0.2529\n"
          ]
        }
      ]
    },
    {
      "cell_type": "code",
      "source": [
        "from rouge_score import rouge_scorer\n",
        "\n",
        "# Instantiate ROUGE scorer\n",
        "scorer = rouge_scorer.RougeScorer(['rouge1', 'rouge2', 'rougeL'], use_stemmer=True)\n",
        "\n",
        "# Initialize lists to store individual scores\n",
        "rouge1_recall = []\n",
        "rouge1_precision = []\n",
        "rouge1_f1 = []\n",
        "rouge2_recall = []\n",
        "rouge2_precision = []\n",
        "rouge2_f1 = []\n",
        "rougeL_recall = []\n",
        "rougeL_precision = []\n",
        "rougeL_f1 = []\n",
        "\n",
        "# Compute ROUGE scores for each pair of prediction and reference\n",
        "for pred, ref in zip(Flan_t5_base_Bio_predictions, reference_ft5_base):\n",
        "    score = scorer.score(pred, ref)\n",
        "    rouge1_recall.append(score['rouge1'].recall)\n",
        "    rouge1_precision.append(score['rouge1'].precision)\n",
        "    rouge1_f1.append(score['rouge1'].fmeasure)\n",
        "    rouge2_recall.append(score['rouge2'].recall)\n",
        "    rouge2_precision.append(score['rouge2'].precision)\n",
        "    rouge2_f1.append(score['rouge2'].fmeasure)\n",
        "    rougeL_recall.append(score['rougeL'].recall)\n",
        "    rougeL_precision.append(score['rougeL'].precision)\n",
        "    rougeL_f1.append(score['rougeL'].fmeasure)\n",
        "\n",
        "# Calculate average ROUGE scores\n",
        "avg_rouge1_recall_baseline = sum(rouge1_recall) / len(rouge1_recall)\n",
        "avg_rouge1_precision_baseline = sum(rouge1_precision) / len(rouge1_precision)\n",
        "avg_rouge1_f1_baseline = sum(rouge1_f1) / len(rouge1_f1)\n",
        "avg_rouge2_recall_baseline = sum(rouge2_recall) / len(rouge2_recall)\n",
        "avg_rouge2_precision_baseline = sum(rouge2_precision) / len(rouge2_precision)\n",
        "avg_rouge2_f1_baseline = sum(rouge2_f1) / len(rouge2_f1)\n",
        "avg_rougeL_recall_baseline = sum(rougeL_recall) / len(rougeL_recall)\n",
        "avg_rougeL_precision_baseline = sum(rougeL_precision) / len(rougeL_precision)\n",
        "avg_rougeL_f1_baseline = sum(rougeL_f1) / len(rougeL_f1)\n",
        "\n",
        "# Print average ROUGE scores\n",
        "print(f\"Average ROUGE-1 Recall: {avg_rouge1_recall_baseline:.4f}\")\n",
        "print(f\"Average ROUGE-1 Precision: {avg_rouge1_precision_baseline:.4f}\")\n",
        "print(f\"Average ROUGE-1 F1: {avg_rouge1_f1_baseline:.4f}\")\n",
        "print(f\"Average ROUGE-2 Recall: {avg_rouge2_recall_baseline:.4f}\")\n",
        "print(f\"Average ROUGE-2 Precision: {avg_rouge2_precision_baseline:.4f}\")\n",
        "print(f\"Average ROUGE-2 F1: {avg_rouge2_f1_baseline:.4f}\")\n",
        "print(f\"Average ROUGE-L Recall: {avg_rougeL_recall_baseline:.4f}\")\n",
        "print(f\"Average ROUGE-L Precision: {avg_rougeL_precision_baseline:.4f}\")\n",
        "print(f\"Average ROUGE-L F1: {avg_rougeL_f1_baseline:.4f}\")\n"
      ],
      "metadata": {
        "id": "VZEKtSE0RpT8",
        "colab": {
          "base_uri": "https://localhost:8080/"
        },
        "outputId": "f5e9523a-9e3d-45d4-a60b-1c6db87928c2"
      },
      "execution_count": 59,
      "outputs": [
        {
          "output_type": "stream",
          "name": "stdout",
          "text": [
            "Average ROUGE-1 Recall: 0.5159\n",
            "Average ROUGE-1 Precision: 0.2605\n",
            "Average ROUGE-1 F1: 0.2918\n",
            "Average ROUGE-2 Recall: 0.2424\n",
            "Average ROUGE-2 Precision: 0.1060\n",
            "Average ROUGE-2 F1: 0.1251\n",
            "Average ROUGE-L Recall: 0.4371\n",
            "Average ROUGE-L Precision: 0.2290\n",
            "Average ROUGE-L F1: 0.2527\n"
          ]
        }
      ]
    },
    {
      "cell_type": "code",
      "source": [
        "from rouge_score import rouge_scorer\n",
        "\n",
        "# Instantiate ROUGE scorer\n",
        "scorer = rouge_scorer.RougeScorer(['rouge1', 'rouge2', 'rougeL'], use_stemmer=True)\n",
        "\n",
        "# Initialize lists to store individual scores\n",
        "rouge1_recall = []\n",
        "rouge1_precision = []\n",
        "rouge1_f1 = []\n",
        "rouge2_recall = []\n",
        "rouge2_precision = []\n",
        "rouge2_f1 = []\n",
        "rougeL_recall = []\n",
        "rougeL_precision = []\n",
        "rougeL_f1 = []\n",
        "\n",
        "# Compute ROUGE scores for each pair of prediction and reference\n",
        "for pred, ref in zip(Flan_t5_base_Clinical_predictions, reference_ft5_base):\n",
        "    score = scorer.score(pred, ref)\n",
        "    rouge1_recall.append(score['rouge1'].recall)\n",
        "    rouge1_precision.append(score['rouge1'].precision)\n",
        "    rouge1_f1.append(score['rouge1'].fmeasure)\n",
        "    rouge2_recall.append(score['rouge2'].recall)\n",
        "    rouge2_precision.append(score['rouge2'].precision)\n",
        "    rouge2_f1.append(score['rouge2'].fmeasure)\n",
        "    rougeL_recall.append(score['rougeL'].recall)\n",
        "    rougeL_precision.append(score['rougeL'].precision)\n",
        "    rougeL_f1.append(score['rougeL'].fmeasure)\n",
        "\n",
        "# Calculate average ROUGE scores\n",
        "avg_rouge1_recall_baseline = sum(rouge1_recall) / len(rouge1_recall)\n",
        "avg_rouge1_precision_baseline = sum(rouge1_precision) / len(rouge1_precision)\n",
        "avg_rouge1_f1_baseline = sum(rouge1_f1) / len(rouge1_f1)\n",
        "avg_rouge2_recall_baseline = sum(rouge2_recall) / len(rouge2_recall)\n",
        "avg_rouge2_precision_baseline = sum(rouge2_precision) / len(rouge2_precision)\n",
        "avg_rouge2_f1_baseline = sum(rouge2_f1) / len(rouge2_f1)\n",
        "avg_rougeL_recall_baseline = sum(rougeL_recall) / len(rougeL_recall)\n",
        "avg_rougeL_precision_baseline = sum(rougeL_precision) / len(rougeL_precision)\n",
        "avg_rougeL_f1_baseline = sum(rougeL_f1) / len(rougeL_f1)\n",
        "\n",
        "# Print average ROUGE scores\n",
        "print(f\"Average ROUGE-1 Recall: {avg_rouge1_recall_baseline:.4f}\")\n",
        "print(f\"Average ROUGE-1 Precision: {avg_rouge1_precision_baseline:.4f}\")\n",
        "print(f\"Average ROUGE-1 F1: {avg_rouge1_f1_baseline:.4f}\")\n",
        "print(f\"Average ROUGE-2 Recall: {avg_rouge2_recall_baseline:.4f}\")\n",
        "print(f\"Average ROUGE-2 Precision: {avg_rouge2_precision_baseline:.4f}\")\n",
        "print(f\"Average ROUGE-2 F1: {avg_rouge2_f1_baseline:.4f}\")\n",
        "print(f\"Average ROUGE-L Recall: {avg_rougeL_recall_baseline:.4f}\")\n",
        "print(f\"Average ROUGE-L Precision: {avg_rougeL_precision_baseline:.4f}\")\n",
        "print(f\"Average ROUGE-L F1: {avg_rougeL_f1_baseline:.4f}\")\n"
      ],
      "metadata": {
        "id": "XgPmMP1nR8LC",
        "colab": {
          "base_uri": "https://localhost:8080/"
        },
        "outputId": "ca192855-6cce-4a00-fc8a-1e3297a0cdf1"
      },
      "execution_count": 60,
      "outputs": [
        {
          "output_type": "stream",
          "name": "stdout",
          "text": [
            "Average ROUGE-1 Recall: 0.5085\n",
            "Average ROUGE-1 Precision: 0.2467\n",
            "Average ROUGE-1 F1: 0.2818\n",
            "Average ROUGE-2 Recall: 0.2341\n",
            "Average ROUGE-2 Precision: 0.1019\n",
            "Average ROUGE-2 F1: 0.1200\n",
            "Average ROUGE-L Recall: 0.4268\n",
            "Average ROUGE-L Precision: 0.2161\n",
            "Average ROUGE-L F1: 0.2423\n"
          ]
        }
      ]
    },
    {
      "cell_type": "code",
      "source": [
        "from rouge_score import rouge_scorer\n",
        "\n",
        "# Instantiate ROUGE scorer\n",
        "scorer = rouge_scorer.RougeScorer(['rouge1', 'rouge2', 'rougeL'], use_stemmer=True)\n",
        "\n",
        "# Initialize lists to store individual scores\n",
        "rouge1_recall = []\n",
        "rouge1_precision = []\n",
        "rouge1_f1 = []\n",
        "rouge2_recall = []\n",
        "rouge2_precision = []\n",
        "rouge2_f1 = []\n",
        "rougeL_recall = []\n",
        "rougeL_precision = []\n",
        "rougeL_f1 = []\n",
        "\n",
        "# Compute ROUGE scores for each pair of prediction and reference\n",
        "for pred, ref in zip(Flan_T5_base_KeyBert_predictions, reference_ft5_base):\n",
        "    score = scorer.score(pred, ref)\n",
        "    rouge1_recall.append(score['rouge1'].recall)\n",
        "    rouge1_precision.append(score['rouge1'].precision)\n",
        "    rouge1_f1.append(score['rouge1'].fmeasure)\n",
        "    rouge2_recall.append(score['rouge2'].recall)\n",
        "    rouge2_precision.append(score['rouge2'].precision)\n",
        "    rouge2_f1.append(score['rouge2'].fmeasure)\n",
        "    rougeL_recall.append(score['rougeL'].recall)\n",
        "    rougeL_precision.append(score['rougeL'].precision)\n",
        "    rougeL_f1.append(score['rougeL'].fmeasure)\n",
        "\n",
        "# Calculate average ROUGE scores\n",
        "avg_rouge1_recall_baseline = sum(rouge1_recall) / len(rouge1_recall)\n",
        "avg_rouge1_precision_baseline = sum(rouge1_precision) / len(rouge1_precision)\n",
        "avg_rouge1_f1_baseline = sum(rouge1_f1) / len(rouge1_f1)\n",
        "avg_rouge2_recall_baseline = sum(rouge2_recall) / len(rouge2_recall)\n",
        "avg_rouge2_precision_baseline = sum(rouge2_precision) / len(rouge2_precision)\n",
        "avg_rouge2_f1_baseline = sum(rouge2_f1) / len(rouge2_f1)\n",
        "avg_rougeL_recall_baseline = sum(rougeL_recall) / len(rougeL_recall)\n",
        "avg_rougeL_precision_baseline = sum(rougeL_precision) / len(rougeL_precision)\n",
        "avg_rougeL_f1_baseline = sum(rougeL_f1) / len(rougeL_f1)\n",
        "\n",
        "# Print average ROUGE scores\n",
        "print(f\"Average ROUGE-1 Recall: {avg_rouge1_recall_baseline:.4f}\")\n",
        "print(f\"Average ROUGE-1 Precision: {avg_rouge1_precision_baseline:.4f}\")\n",
        "print(f\"Average ROUGE-1 F1: {avg_rouge1_f1_baseline:.4f}\")\n",
        "print(f\"Average ROUGE-2 Recall: {avg_rouge2_recall_baseline:.4f}\")\n",
        "print(f\"Average ROUGE-2 Precision: {avg_rouge2_precision_baseline:.4f}\")\n",
        "print(f\"Average ROUGE-2 F1: {avg_rouge2_f1_baseline:.4f}\")\n",
        "print(f\"Average ROUGE-L Recall: {avg_rougeL_recall_baseline:.4f}\")\n",
        "print(f\"Average ROUGE-L Precision: {avg_rougeL_precision_baseline:.4f}\")\n",
        "print(f\"Average ROUGE-L F1: {avg_rougeL_f1_baseline:.4f}\")\n"
      ],
      "metadata": {
        "id": "LnXLKYKIR-Y2",
        "colab": {
          "base_uri": "https://localhost:8080/"
        },
        "outputId": "1b965f11-7c40-4b49-a0b4-a4769d9e4630"
      },
      "execution_count": 61,
      "outputs": [
        {
          "output_type": "stream",
          "name": "stdout",
          "text": [
            "Average ROUGE-1 Recall: 0.5167\n",
            "Average ROUGE-1 Precision: 0.2500\n",
            "Average ROUGE-1 F1: 0.2826\n",
            "Average ROUGE-2 Recall: 0.2497\n",
            "Average ROUGE-2 Precision: 0.1031\n",
            "Average ROUGE-2 F1: 0.1240\n",
            "Average ROUGE-L Recall: 0.4426\n",
            "Average ROUGE-L Precision: 0.2203\n",
            "Average ROUGE-L F1: 0.2464\n"
          ]
        }
      ]
    },
    {
      "cell_type": "markdown",
      "source": [
        "Display for two row for flan_t5_base adj (finetuned)"
      ],
      "metadata": {
        "id": "Ce24yg7k7VE9"
      }
    },
    {
      "cell_type": "code",
      "source": [
        "from rouge_score import rouge_scorer\n",
        "\n",
        "# Instantiate ROUGE scorer\n",
        "scorer = rouge_scorer.RougeScorer(['rouge1', 'rouge2', 'rougeL'], use_stemmer=True)\n",
        "\n",
        "# Initialize lists to store individual scores\n",
        "rouge1_recall = []\n",
        "rouge1_precision = []\n",
        "rouge1_f1 = []\n",
        "rouge2_recall = []\n",
        "rouge2_precision = []\n",
        "rouge2_f1 = []\n",
        "rougeL_recall = []\n",
        "rougeL_precision = []\n",
        "rougeL_f1 = []\n",
        "\n",
        "# Compute ROUGE scores for each pair of prediction and reference\n",
        "for pred, ref in zip(Flan_t5_base_baseline_predictions_adj, reference_ft5_base_adj):\n",
        "    score = scorer.score(pred, ref)\n",
        "    rouge1_recall.append(score['rouge1'].recall)\n",
        "    rouge1_precision.append(score['rouge1'].precision)\n",
        "    rouge1_f1.append(score['rouge1'].fmeasure)\n",
        "    rouge2_recall.append(score['rouge2'].recall)\n",
        "    rouge2_precision.append(score['rouge2'].precision)\n",
        "    rouge2_f1.append(score['rouge2'].fmeasure)\n",
        "    rougeL_recall.append(score['rougeL'].recall)\n",
        "    rougeL_precision.append(score['rougeL'].precision)\n",
        "    rougeL_f1.append(score['rougeL'].fmeasure)\n",
        "\n",
        "# Calculate average ROUGE scores\n",
        "avg_rouge1_recall_baseline = sum(rouge1_recall) / len(rouge1_recall)\n",
        "avg_rouge1_precision_baseline = sum(rouge1_precision) / len(rouge1_precision)\n",
        "avg_rouge1_f1_baseline = sum(rouge1_f1) / len(rouge1_f1)\n",
        "avg_rouge2_recall_baseline = sum(rouge2_recall) / len(rouge2_recall)\n",
        "avg_rouge2_precision_baseline = sum(rouge2_precision) / len(rouge2_precision)\n",
        "avg_rouge2_f1_baseline = sum(rouge2_f1) / len(rouge2_f1)\n",
        "avg_rougeL_recall_baseline = sum(rougeL_recall) / len(rougeL_recall)\n",
        "avg_rougeL_precision_baseline = sum(rougeL_precision) / len(rougeL_precision)\n",
        "avg_rougeL_f1_baseline = sum(rougeL_f1) / len(rougeL_f1)\n",
        "\n",
        "# Print average ROUGE scores\n",
        "print(f\"Average ROUGE-1 Recall: {avg_rouge1_recall_baseline:.4f}\")\n",
        "print(f\"Average ROUGE-1 Precision: {avg_rouge1_precision_baseline:.4f}\")\n",
        "print(f\"Average ROUGE-1 F1: {avg_rouge1_f1_baseline:.4f}\")\n",
        "print(f\"Average ROUGE-2 Recall: {avg_rouge2_recall_baseline:.4f}\")\n",
        "print(f\"Average ROUGE-2 Precision: {avg_rouge2_precision_baseline:.4f}\")\n",
        "print(f\"Average ROUGE-2 F1: {avg_rouge2_f1_baseline:.4f}\")\n",
        "print(f\"Average ROUGE-L Recall: {avg_rougeL_recall_baseline:.4f}\")\n",
        "print(f\"Average ROUGE-L Precision: {avg_rougeL_precision_baseline:.4f}\")\n",
        "print(f\"Average ROUGE-L F1: {avg_rougeL_f1_baseline:.4f}\")\n"
      ],
      "metadata": {
        "colab": {
          "base_uri": "https://localhost:8080/"
        },
        "id": "H3IGrwBf7bEF",
        "outputId": "a4d5c626-5c70-40bd-92bb-bad5e3e801b6"
      },
      "execution_count": 62,
      "outputs": [
        {
          "output_type": "stream",
          "name": "stdout",
          "text": [
            "Average ROUGE-1 Recall: 0.5387\n",
            "Average ROUGE-1 Precision: 0.2580\n",
            "Average ROUGE-1 F1: 0.2978\n",
            "Average ROUGE-2 Recall: 0.2577\n",
            "Average ROUGE-2 Precision: 0.0985\n",
            "Average ROUGE-2 F1: 0.1220\n",
            "Average ROUGE-L Recall: 0.4635\n",
            "Average ROUGE-L Precision: 0.2314\n",
            "Average ROUGE-L F1: 0.2625\n"
          ]
        }
      ]
    },
    {
      "cell_type": "code",
      "source": [
        "from rouge_score import rouge_scorer\n",
        "\n",
        "# Instantiate ROUGE scorer\n",
        "scorer = rouge_scorer.RougeScorer(['rouge1', 'rouge2', 'rougeL'], use_stemmer=True)\n",
        "\n",
        "# Initialize lists to store individual scores\n",
        "rouge1_recall = []\n",
        "rouge1_precision = []\n",
        "rouge1_f1 = []\n",
        "rouge2_recall = []\n",
        "rouge2_precision = []\n",
        "rouge2_f1 = []\n",
        "rougeL_recall = []\n",
        "rougeL_precision = []\n",
        "rougeL_f1 = []\n",
        "\n",
        "# Compute ROUGE scores for each pair of prediction and reference\n",
        "for pred, ref in zip(Flan_t5_base_Bio_predictions_adj, reference_ft5_base_adj):\n",
        "    score = scorer.score(pred, ref)\n",
        "    rouge1_recall.append(score['rouge1'].recall)\n",
        "    rouge1_precision.append(score['rouge1'].precision)\n",
        "    rouge1_f1.append(score['rouge1'].fmeasure)\n",
        "    rouge2_recall.append(score['rouge2'].recall)\n",
        "    rouge2_precision.append(score['rouge2'].precision)\n",
        "    rouge2_f1.append(score['rouge2'].fmeasure)\n",
        "    rougeL_recall.append(score['rougeL'].recall)\n",
        "    rougeL_precision.append(score['rougeL'].precision)\n",
        "    rougeL_f1.append(score['rougeL'].fmeasure)\n",
        "\n",
        "# Calculate average ROUGE scores\n",
        "avg_rouge1_recall_baseline = sum(rouge1_recall) / len(rouge1_recall)\n",
        "avg_rouge1_precision_baseline = sum(rouge1_precision) / len(rouge1_precision)\n",
        "avg_rouge1_f1_baseline = sum(rouge1_f1) / len(rouge1_f1)\n",
        "avg_rouge2_recall_baseline = sum(rouge2_recall) / len(rouge2_recall)\n",
        "avg_rouge2_precision_baseline = sum(rouge2_precision) / len(rouge2_precision)\n",
        "avg_rouge2_f1_baseline = sum(rouge2_f1) / len(rouge2_f1)\n",
        "avg_rougeL_recall_baseline = sum(rougeL_recall) / len(rougeL_recall)\n",
        "avg_rougeL_precision_baseline = sum(rougeL_precision) / len(rougeL_precision)\n",
        "avg_rougeL_f1_baseline = sum(rougeL_f1) / len(rougeL_f1)\n",
        "\n",
        "# Print average ROUGE scores\n",
        "print(f\"Average ROUGE-1 Recall: {avg_rouge1_recall_baseline:.4f}\")\n",
        "print(f\"Average ROUGE-1 Precision: {avg_rouge1_precision_baseline:.4f}\")\n",
        "print(f\"Average ROUGE-1 F1: {avg_rouge1_f1_baseline:.4f}\")\n",
        "print(f\"Average ROUGE-2 Recall: {avg_rouge2_recall_baseline:.4f}\")\n",
        "print(f\"Average ROUGE-2 Precision: {avg_rouge2_precision_baseline:.4f}\")\n",
        "print(f\"Average ROUGE-2 F1: {avg_rouge2_f1_baseline:.4f}\")\n",
        "print(f\"Average ROUGE-L Recall: {avg_rougeL_recall_baseline:.4f}\")\n",
        "print(f\"Average ROUGE-L Precision: {avg_rougeL_precision_baseline:.4f}\")\n",
        "print(f\"Average ROUGE-L F1: {avg_rougeL_f1_baseline:.4f}\")"
      ],
      "metadata": {
        "colab": {
          "base_uri": "https://localhost:8080/"
        },
        "id": "3jzbL1g17bN4",
        "outputId": "6bfbbe61-9e6d-4b34-9ef4-82957ebedcdb"
      },
      "execution_count": 63,
      "outputs": [
        {
          "output_type": "stream",
          "name": "stdout",
          "text": [
            "Average ROUGE-1 Recall: 0.5226\n",
            "Average ROUGE-1 Precision: 0.2518\n",
            "Average ROUGE-1 F1: 0.2855\n",
            "Average ROUGE-2 Recall: 0.2438\n",
            "Average ROUGE-2 Precision: 0.0999\n",
            "Average ROUGE-2 F1: 0.1200\n",
            "Average ROUGE-L Recall: 0.4444\n",
            "Average ROUGE-L Precision: 0.2209\n",
            "Average ROUGE-L F1: 0.2480\n"
          ]
        }
      ]
    },
    {
      "cell_type": "code",
      "source": [
        "from rouge_score import rouge_scorer\n",
        "\n",
        "# Instantiate ROUGE scorer\n",
        "scorer = rouge_scorer.RougeScorer(['rouge1', 'rouge2', 'rougeL'], use_stemmer=True)\n",
        "\n",
        "# Initialize lists to store individual scores\n",
        "rouge1_recall = []\n",
        "rouge1_precision = []\n",
        "rouge1_f1 = []\n",
        "rouge2_recall = []\n",
        "rouge2_precision = []\n",
        "rouge2_f1 = []\n",
        "rougeL_recall = []\n",
        "rougeL_precision = []\n",
        "rougeL_f1 = []\n",
        "\n",
        "# Compute ROUGE scores for each pair of prediction and reference\n",
        "for pred, ref in zip(Flan_t5_base_Clinical_predictions_adj, reference_ft5_base_adj):\n",
        "    score = scorer.score(pred, ref)\n",
        "    rouge1_recall.append(score['rouge1'].recall)\n",
        "    rouge1_precision.append(score['rouge1'].precision)\n",
        "    rouge1_f1.append(score['rouge1'].fmeasure)\n",
        "    rouge2_recall.append(score['rouge2'].recall)\n",
        "    rouge2_precision.append(score['rouge2'].precision)\n",
        "    rouge2_f1.append(score['rouge2'].fmeasure)\n",
        "    rougeL_recall.append(score['rougeL'].recall)\n",
        "    rougeL_precision.append(score['rougeL'].precision)\n",
        "    rougeL_f1.append(score['rougeL'].fmeasure)\n",
        "\n",
        "# Calculate average ROUGE scores\n",
        "avg_rouge1_recall_baseline = sum(rouge1_recall) / len(rouge1_recall)\n",
        "avg_rouge1_precision_baseline = sum(rouge1_precision) / len(rouge1_precision)\n",
        "avg_rouge1_f1_baseline = sum(rouge1_f1) / len(rouge1_f1)\n",
        "avg_rouge2_recall_baseline = sum(rouge2_recall) / len(rouge2_recall)\n",
        "avg_rouge2_precision_baseline = sum(rouge2_precision) / len(rouge2_precision)\n",
        "avg_rouge2_f1_baseline = sum(rouge2_f1) / len(rouge2_f1)\n",
        "avg_rougeL_recall_baseline = sum(rougeL_recall) / len(rougeL_recall)\n",
        "avg_rougeL_precision_baseline = sum(rougeL_precision) / len(rougeL_precision)\n",
        "avg_rougeL_f1_baseline = sum(rougeL_f1) / len(rougeL_f1)\n",
        "\n",
        "# Print average ROUGE scores\n",
        "print(f\"Average ROUGE-1 Recall: {avg_rouge1_recall_baseline:.4f}\")\n",
        "print(f\"Average ROUGE-1 Precision: {avg_rouge1_precision_baseline:.4f}\")\n",
        "print(f\"Average ROUGE-1 F1: {avg_rouge1_f1_baseline:.4f}\")\n",
        "print(f\"Average ROUGE-2 Recall: {avg_rouge2_recall_baseline:.4f}\")\n",
        "print(f\"Average ROUGE-2 Precision: {avg_rouge2_precision_baseline:.4f}\")\n",
        "print(f\"Average ROUGE-2 F1: {avg_rouge2_f1_baseline:.4f}\")\n",
        "print(f\"Average ROUGE-L Recall: {avg_rougeL_recall_baseline:.4f}\")\n",
        "print(f\"Average ROUGE-L Precision: {avg_rougeL_precision_baseline:.4f}\")\n",
        "print(f\"Average ROUGE-L F1: {avg_rougeL_f1_baseline:.4f}\")\n"
      ],
      "metadata": {
        "colab": {
          "base_uri": "https://localhost:8080/"
        },
        "id": "-DhjhlOn7bVj",
        "outputId": "dc79a27f-ef04-454f-adad-401611576461"
      },
      "execution_count": 64,
      "outputs": [
        {
          "output_type": "stream",
          "name": "stdout",
          "text": [
            "Average ROUGE-1 Recall: 0.5300\n",
            "Average ROUGE-1 Precision: 0.2468\n",
            "Average ROUGE-1 F1: 0.2890\n",
            "Average ROUGE-2 Recall: 0.2460\n",
            "Average ROUGE-2 Precision: 0.0990\n",
            "Average ROUGE-2 F1: 0.1190\n",
            "Average ROUGE-L Recall: 0.4479\n",
            "Average ROUGE-L Precision: 0.2164\n",
            "Average ROUGE-L F1: 0.2498\n"
          ]
        }
      ]
    },
    {
      "cell_type": "code",
      "source": [
        "from rouge_score import rouge_scorer\n",
        "\n",
        "# Instantiate ROUGE scorer\n",
        "scorer = rouge_scorer.RougeScorer(['rouge1', 'rouge2', 'rougeL'], use_stemmer=True)\n",
        "\n",
        "# Initialize lists to store individual scores\n",
        "rouge1_recall = []\n",
        "rouge1_precision = []\n",
        "rouge1_f1 = []\n",
        "rouge2_recall = []\n",
        "rouge2_precision = []\n",
        "rouge2_f1 = []\n",
        "rougeL_recall = []\n",
        "rougeL_precision = []\n",
        "rougeL_f1 = []\n",
        "\n",
        "# Compute ROUGE scores for each pair of prediction and reference\n",
        "for pred, ref in zip(Flan_T5_base_KeyBert_predictions_adj, reference_ft5_base_adj):\n",
        "    score = scorer.score(pred, ref)\n",
        "    rouge1_recall.append(score['rouge1'].recall)\n",
        "    rouge1_precision.append(score['rouge1'].precision)\n",
        "    rouge1_f1.append(score['rouge1'].fmeasure)\n",
        "    rouge2_recall.append(score['rouge2'].recall)\n",
        "    rouge2_precision.append(score['rouge2'].precision)\n",
        "    rouge2_f1.append(score['rouge2'].fmeasure)\n",
        "    rougeL_recall.append(score['rougeL'].recall)\n",
        "    rougeL_precision.append(score['rougeL'].precision)\n",
        "    rougeL_f1.append(score['rougeL'].fmeasure)\n",
        "\n",
        "# Calculate average ROUGE scores\n",
        "avg_rouge1_recall_baseline = sum(rouge1_recall) / len(rouge1_recall)\n",
        "avg_rouge1_precision_baseline = sum(rouge1_precision) / len(rouge1_precision)\n",
        "avg_rouge1_f1_baseline = sum(rouge1_f1) / len(rouge1_f1)\n",
        "avg_rouge2_recall_baseline = sum(rouge2_recall) / len(rouge2_recall)\n",
        "avg_rouge2_precision_baseline = sum(rouge2_precision) / len(rouge2_precision)\n",
        "avg_rouge2_f1_baseline = sum(rouge2_f1) / len(rouge2_f1)\n",
        "avg_rougeL_recall_baseline = sum(rougeL_recall) / len(rougeL_recall)\n",
        "avg_rougeL_precision_baseline = sum(rougeL_precision) / len(rougeL_precision)\n",
        "avg_rougeL_f1_baseline = sum(rougeL_f1) / len(rougeL_f1)\n",
        "\n",
        "# Print average ROUGE scores\n",
        "print(f\"Average ROUGE-1 Recall: {avg_rouge1_recall_baseline:.4f}\")\n",
        "print(f\"Average ROUGE-1 Precision: {avg_rouge1_precision_baseline:.4f}\")\n",
        "print(f\"Average ROUGE-1 F1: {avg_rouge1_f1_baseline:.4f}\")\n",
        "print(f\"Average ROUGE-2 Recall: {avg_rouge2_recall_baseline:.4f}\")\n",
        "print(f\"Average ROUGE-2 Precision: {avg_rouge2_precision_baseline:.4f}\")\n",
        "print(f\"Average ROUGE-2 F1: {avg_rouge2_f1_baseline:.4f}\")\n",
        "print(f\"Average ROUGE-L Recall: {avg_rougeL_recall_baseline:.4f}\")\n",
        "print(f\"Average ROUGE-L Precision: {avg_rougeL_precision_baseline:.4f}\")\n",
        "print(f\"Average ROUGE-L F1: {avg_rougeL_f1_baseline:.4f}\")"
      ],
      "metadata": {
        "colab": {
          "base_uri": "https://localhost:8080/"
        },
        "id": "Onstys-07b-G",
        "outputId": "80d805c9-3e06-40c9-cd01-ef8f6573f055"
      },
      "execution_count": 65,
      "outputs": [
        {
          "output_type": "stream",
          "name": "stdout",
          "text": [
            "Average ROUGE-1 Recall: 0.5313\n",
            "Average ROUGE-1 Precision: 0.2460\n",
            "Average ROUGE-1 F1: 0.2868\n",
            "Average ROUGE-2 Recall: 0.2571\n",
            "Average ROUGE-2 Precision: 0.1042\n",
            "Average ROUGE-2 F1: 0.1272\n",
            "Average ROUGE-L Recall: 0.4552\n",
            "Average ROUGE-L Precision: 0.2162\n",
            "Average ROUGE-L F1: 0.2497\n"
          ]
        }
      ]
    },
    {
      "cell_type": "markdown",
      "source": [
        "Rouge Scores - Flan_T5 large on short dialogues"
      ],
      "metadata": {
        "id": "q2Zc4pBcSWvz"
      }
    },
    {
      "cell_type": "code",
      "source": [
        "from rouge_score import rouge_scorer\n",
        "\n",
        "# Instantiate ROUGE scorer\n",
        "scorer = rouge_scorer.RougeScorer(['rouge1', 'rouge2', 'rougeL'], use_stemmer=True)\n",
        "\n",
        "# Initialize lists to store individual scores\n",
        "rouge1_recall = []\n",
        "rouge1_precision = []\n",
        "rouge1_f1 = []\n",
        "rouge2_recall = []\n",
        "rouge2_precision = []\n",
        "rouge2_f1 = []\n",
        "rougeL_recall = []\n",
        "rougeL_precision = []\n",
        "rougeL_f1 = []\n",
        "\n",
        "# Compute ROUGE scores for each pair of prediction and reference\n",
        "for pred, ref in zip(Flan_t5_large_baseline_predictions, reference_ft5_large):\n",
        "    score = scorer.score(pred, ref)\n",
        "    rouge1_recall.append(score['rouge1'].recall)\n",
        "    rouge1_precision.append(score['rouge1'].precision)\n",
        "    rouge1_f1.append(score['rouge1'].fmeasure)\n",
        "    rouge2_recall.append(score['rouge2'].recall)\n",
        "    rouge2_precision.append(score['rouge2'].precision)\n",
        "    rouge2_f1.append(score['rouge2'].fmeasure)\n",
        "    rougeL_recall.append(score['rougeL'].recall)\n",
        "    rougeL_precision.append(score['rougeL'].precision)\n",
        "    rougeL_f1.append(score['rougeL'].fmeasure)\n",
        "\n",
        "# Calculate average ROUGE scores\n",
        "avg_rouge1_recall_baseline = sum(rouge1_recall) / len(rouge1_recall)\n",
        "avg_rouge1_precision_baseline = sum(rouge1_precision) / len(rouge1_precision)\n",
        "avg_rouge1_f1_baseline = sum(rouge1_f1) / len(rouge1_f1)\n",
        "avg_rouge2_recall_baseline = sum(rouge2_recall) / len(rouge2_recall)\n",
        "avg_rouge2_precision_baseline = sum(rouge2_precision) / len(rouge2_precision)\n",
        "avg_rouge2_f1_baseline = sum(rouge2_f1) / len(rouge2_f1)\n",
        "avg_rougeL_recall_baseline = sum(rougeL_recall) / len(rougeL_recall)\n",
        "avg_rougeL_precision_baseline = sum(rougeL_precision) / len(rougeL_precision)\n",
        "avg_rougeL_f1_baseline = sum(rougeL_f1) / len(rougeL_f1)\n",
        "\n",
        "# Print average ROUGE scores\n",
        "print(f\"Average ROUGE-1 Recall: {avg_rouge1_recall_baseline:.4f}\")\n",
        "print(f\"Average ROUGE-1 Precision: {avg_rouge1_precision_baseline:.4f}\")\n",
        "print(f\"Average ROUGE-1 F1: {avg_rouge1_f1_baseline:.4f}\")\n",
        "print(f\"Average ROUGE-2 Recall: {avg_rouge2_recall_baseline:.4f}\")\n",
        "print(f\"Average ROUGE-2 Precision: {avg_rouge2_precision_baseline:.4f}\")\n",
        "print(f\"Average ROUGE-2 F1: {avg_rouge2_f1_baseline:.4f}\")\n",
        "print(f\"Average ROUGE-L Recall: {avg_rougeL_recall_baseline:.4f}\")\n",
        "print(f\"Average ROUGE-L Precision: {avg_rougeL_precision_baseline:.4f}\")\n",
        "print(f\"Average ROUGE-L F1: {avg_rougeL_f1_baseline:.4f}\")\n"
      ],
      "metadata": {
        "id": "pRI4XHLkSanm",
        "colab": {
          "base_uri": "https://localhost:8080/"
        },
        "outputId": "8d094afb-9c83-480b-e585-3e75999e7258"
      },
      "execution_count": 66,
      "outputs": [
        {
          "output_type": "stream",
          "name": "stdout",
          "text": [
            "Average ROUGE-1 Recall: 0.5602\n",
            "Average ROUGE-1 Precision: 0.2993\n",
            "Average ROUGE-1 F1: 0.3269\n",
            "Average ROUGE-2 Recall: 0.2885\n",
            "Average ROUGE-2 Precision: 0.1325\n",
            "Average ROUGE-2 F1: 0.1554\n",
            "Average ROUGE-L Recall: 0.4833\n",
            "Average ROUGE-L Precision: 0.2639\n",
            "Average ROUGE-L F1: 0.2861\n"
          ]
        }
      ]
    },
    {
      "cell_type": "code",
      "source": [
        "from rouge_score import rouge_scorer\n",
        "\n",
        "# Instantiate ROUGE scorer\n",
        "scorer = rouge_scorer.RougeScorer(['rouge1', 'rouge2', 'rougeL'], use_stemmer=True)\n",
        "\n",
        "# Initialize lists to store individual scores\n",
        "rouge1_recall = []\n",
        "rouge1_precision = []\n",
        "rouge1_f1 = []\n",
        "rouge2_recall = []\n",
        "rouge2_precision = []\n",
        "rouge2_f1 = []\n",
        "rougeL_recall = []\n",
        "rougeL_precision = []\n",
        "rougeL_f1 = []\n",
        "\n",
        "# Compute ROUGE scores for each pair of prediction and reference\n",
        "for pred, ref in zip(Flan_t5_large_Bio_predictions, reference_ft5_large):\n",
        "    score = scorer.score(pred, ref)\n",
        "    rouge1_recall.append(score['rouge1'].recall)\n",
        "    rouge1_precision.append(score['rouge1'].precision)\n",
        "    rouge1_f1.append(score['rouge1'].fmeasure)\n",
        "    rouge2_recall.append(score['rouge2'].recall)\n",
        "    rouge2_precision.append(score['rouge2'].precision)\n",
        "    rouge2_f1.append(score['rouge2'].fmeasure)\n",
        "    rougeL_recall.append(score['rougeL'].recall)\n",
        "    rougeL_precision.append(score['rougeL'].precision)\n",
        "    rougeL_f1.append(score['rougeL'].fmeasure)\n",
        "\n",
        "# Calculate average ROUGE scores\n",
        "avg_rouge1_recall_baseline = sum(rouge1_recall) / len(rouge1_recall)\n",
        "avg_rouge1_precision_baseline = sum(rouge1_precision) / len(rouge1_precision)\n",
        "avg_rouge1_f1_baseline = sum(rouge1_f1) / len(rouge1_f1)\n",
        "avg_rouge2_recall_baseline = sum(rouge2_recall) / len(rouge2_recall)\n",
        "avg_rouge2_precision_baseline = sum(rouge2_precision) / len(rouge2_precision)\n",
        "avg_rouge2_f1_baseline = sum(rouge2_f1) / len(rouge2_f1)\n",
        "avg_rougeL_recall_baseline = sum(rougeL_recall) / len(rougeL_recall)\n",
        "avg_rougeL_precision_baseline = sum(rougeL_precision) / len(rougeL_precision)\n",
        "avg_rougeL_f1_baseline = sum(rougeL_f1) / len(rougeL_f1)\n",
        "\n",
        "# Print average ROUGE scores\n",
        "print(f\"Average ROUGE-1 Recall: {avg_rouge1_recall_baseline:.4f}\")\n",
        "print(f\"Average ROUGE-1 Precision: {avg_rouge1_precision_baseline:.4f}\")\n",
        "print(f\"Average ROUGE-1 F1: {avg_rouge1_f1_baseline:.4f}\")\n",
        "print(f\"Average ROUGE-2 Recall: {avg_rouge2_recall_baseline:.4f}\")\n",
        "print(f\"Average ROUGE-2 Precision: {avg_rouge2_precision_baseline:.4f}\")\n",
        "print(f\"Average ROUGE-2 F1: {avg_rouge2_f1_baseline:.4f}\")\n",
        "print(f\"Average ROUGE-L Recall: {avg_rougeL_recall_baseline:.4f}\")\n",
        "print(f\"Average ROUGE-L Precision: {avg_rougeL_precision_baseline:.4f}\")\n",
        "print(f\"Average ROUGE-L F1: {avg_rougeL_f1_baseline:.4f}\")\n"
      ],
      "metadata": {
        "id": "85FHwK_bSfIv",
        "colab": {
          "base_uri": "https://localhost:8080/"
        },
        "outputId": "01804f3b-1ebe-49c4-a7b5-b314eed5bfdf"
      },
      "execution_count": 67,
      "outputs": [
        {
          "output_type": "stream",
          "name": "stdout",
          "text": [
            "Average ROUGE-1 Recall: 0.5357\n",
            "Average ROUGE-1 Precision: 0.2897\n",
            "Average ROUGE-1 F1: 0.3092\n",
            "Average ROUGE-2 Recall: 0.2649\n",
            "Average ROUGE-2 Precision: 0.1232\n",
            "Average ROUGE-2 F1: 0.1373\n",
            "Average ROUGE-L Recall: 0.4541\n",
            "Average ROUGE-L Precision: 0.2519\n",
            "Average ROUGE-L F1: 0.2657\n"
          ]
        }
      ]
    },
    {
      "cell_type": "code",
      "source": [
        "from rouge_score import rouge_scorer\n",
        "\n",
        "# Instantiate ROUGE scorer\n",
        "scorer = rouge_scorer.RougeScorer(['rouge1', 'rouge2', 'rougeL'], use_stemmer=True)\n",
        "\n",
        "# Initialize lists to store individual scores\n",
        "rouge1_recall = []\n",
        "rouge1_precision = []\n",
        "rouge1_f1 = []\n",
        "rouge2_recall = []\n",
        "rouge2_precision = []\n",
        "rouge2_f1 = []\n",
        "rougeL_recall = []\n",
        "rougeL_precision = []\n",
        "rougeL_f1 = []\n",
        "\n",
        "# Compute ROUGE scores for each pair of prediction and reference\n",
        "for pred, ref in zip(Flan_t5_large_Clinical_predictions, reference_ft5_large):\n",
        "    score = scorer.score(pred, ref)\n",
        "    rouge1_recall.append(score['rouge1'].recall)\n",
        "    rouge1_precision.append(score['rouge1'].precision)\n",
        "    rouge1_f1.append(score['rouge1'].fmeasure)\n",
        "    rouge2_recall.append(score['rouge2'].recall)\n",
        "    rouge2_precision.append(score['rouge2'].precision)\n",
        "    rouge2_f1.append(score['rouge2'].fmeasure)\n",
        "    rougeL_recall.append(score['rougeL'].recall)\n",
        "    rougeL_precision.append(score['rougeL'].precision)\n",
        "    rougeL_f1.append(score['rougeL'].fmeasure)\n",
        "\n",
        "# Calculate average ROUGE scores\n",
        "avg_rouge1_recall_baseline = sum(rouge1_recall) / len(rouge1_recall)\n",
        "avg_rouge1_precision_baseline = sum(rouge1_precision) / len(rouge1_precision)\n",
        "avg_rouge1_f1_baseline = sum(rouge1_f1) / len(rouge1_f1)\n",
        "avg_rouge2_recall_baseline = sum(rouge2_recall) / len(rouge2_recall)\n",
        "avg_rouge2_precision_baseline = sum(rouge2_precision) / len(rouge2_precision)\n",
        "avg_rouge2_f1_baseline = sum(rouge2_f1) / len(rouge2_f1)\n",
        "avg_rougeL_recall_baseline = sum(rougeL_recall) / len(rougeL_recall)\n",
        "avg_rougeL_precision_baseline = sum(rougeL_precision) / len(rougeL_precision)\n",
        "avg_rougeL_f1_baseline = sum(rougeL_f1) / len(rougeL_f1)\n",
        "\n",
        "# Print average ROUGE scores\n",
        "print(f\"Average ROUGE-1 Recall: {avg_rouge1_recall_baseline:.4f}\")\n",
        "print(f\"Average ROUGE-1 Precision: {avg_rouge1_precision_baseline:.4f}\")\n",
        "print(f\"Average ROUGE-1 F1: {avg_rouge1_f1_baseline:.4f}\")\n",
        "print(f\"Average ROUGE-2 Recall: {avg_rouge2_recall_baseline:.4f}\")\n",
        "print(f\"Average ROUGE-2 Precision: {avg_rouge2_precision_baseline:.4f}\")\n",
        "print(f\"Average ROUGE-2 F1: {avg_rouge2_f1_baseline:.4f}\")\n",
        "print(f\"Average ROUGE-L Recall: {avg_rougeL_recall_baseline:.4f}\")\n",
        "print(f\"Average ROUGE-L Precision: {avg_rougeL_precision_baseline:.4f}\")\n",
        "print(f\"Average ROUGE-L F1: {avg_rougeL_f1_baseline:.4f}\")\n"
      ],
      "metadata": {
        "id": "F5yPCqARSavR",
        "colab": {
          "base_uri": "https://localhost:8080/"
        },
        "outputId": "3ea1f68c-9a8f-4425-82e2-176cb59fabd1"
      },
      "execution_count": 68,
      "outputs": [
        {
          "output_type": "stream",
          "name": "stdout",
          "text": [
            "Average ROUGE-1 Recall: 0.5284\n",
            "Average ROUGE-1 Precision: 0.2887\n",
            "Average ROUGE-1 F1: 0.3056\n",
            "Average ROUGE-2 Recall: 0.2641\n",
            "Average ROUGE-2 Precision: 0.1229\n",
            "Average ROUGE-2 F1: 0.1386\n",
            "Average ROUGE-L Recall: 0.4509\n",
            "Average ROUGE-L Precision: 0.2534\n",
            "Average ROUGE-L F1: 0.2643\n"
          ]
        }
      ]
    },
    {
      "cell_type": "code",
      "source": [
        "from rouge_score import rouge_scorer\n",
        "\n",
        "# Instantiate ROUGE scorer\n",
        "scorer = rouge_scorer.RougeScorer(['rouge1', 'rouge2', 'rougeL'], use_stemmer=True)\n",
        "\n",
        "# Initialize lists to store individual scores\n",
        "rouge1_recall = []\n",
        "rouge1_precision = []\n",
        "rouge1_f1 = []\n",
        "rouge2_recall = []\n",
        "rouge2_precision = []\n",
        "rouge2_f1 = []\n",
        "rougeL_recall = []\n",
        "rougeL_precision = []\n",
        "rougeL_f1 = []\n",
        "\n",
        "# Compute ROUGE scores for each pair of prediction and reference\n",
        "for pred, ref in zip(Flan_T5_large_KeyBert_predictions, reference_ft5_large):\n",
        "    score = scorer.score(pred, ref)\n",
        "    rouge1_recall.append(score['rouge1'].recall)\n",
        "    rouge1_precision.append(score['rouge1'].precision)\n",
        "    rouge1_f1.append(score['rouge1'].fmeasure)\n",
        "    rouge2_recall.append(score['rouge2'].recall)\n",
        "    rouge2_precision.append(score['rouge2'].precision)\n",
        "    rouge2_f1.append(score['rouge2'].fmeasure)\n",
        "    rougeL_recall.append(score['rougeL'].recall)\n",
        "    rougeL_precision.append(score['rougeL'].precision)\n",
        "    rougeL_f1.append(score['rougeL'].fmeasure)\n",
        "\n",
        "# Calculate average ROUGE scores\n",
        "avg_rouge1_recall_baseline = sum(rouge1_recall) / len(rouge1_recall)\n",
        "avg_rouge1_precision_baseline = sum(rouge1_precision) / len(rouge1_precision)\n",
        "avg_rouge1_f1_baseline = sum(rouge1_f1) / len(rouge1_f1)\n",
        "avg_rouge2_recall_baseline = sum(rouge2_recall) / len(rouge2_recall)\n",
        "avg_rouge2_precision_baseline = sum(rouge2_precision) / len(rouge2_precision)\n",
        "avg_rouge2_f1_baseline = sum(rouge2_f1) / len(rouge2_f1)\n",
        "avg_rougeL_recall_baseline = sum(rougeL_recall) / len(rougeL_recall)\n",
        "avg_rougeL_precision_baseline = sum(rougeL_precision) / len(rougeL_precision)\n",
        "avg_rougeL_f1_baseline = sum(rougeL_f1) / len(rougeL_f1)\n",
        "\n",
        "# Print average ROUGE scores\n",
        "print(f\"Average ROUGE-1 Recall: {avg_rouge1_recall_baseline:.4f}\")\n",
        "print(f\"Average ROUGE-1 Precision: {avg_rouge1_precision_baseline:.4f}\")\n",
        "print(f\"Average ROUGE-1 F1: {avg_rouge1_f1_baseline:.4f}\")\n",
        "print(f\"Average ROUGE-2 Recall: {avg_rouge2_recall_baseline:.4f}\")\n",
        "print(f\"Average ROUGE-2 Precision: {avg_rouge2_precision_baseline:.4f}\")\n",
        "print(f\"Average ROUGE-2 F1: {avg_rouge2_f1_baseline:.4f}\")\n",
        "print(f\"Average ROUGE-L Recall: {avg_rougeL_recall_baseline:.4f}\")\n",
        "print(f\"Average ROUGE-L Precision: {avg_rougeL_precision_baseline:.4f}\")\n",
        "print(f\"Average ROUGE-L F1: {avg_rougeL_f1_baseline:.4f}\")\n"
      ],
      "metadata": {
        "id": "WZ7XfWmMSa2E",
        "colab": {
          "base_uri": "https://localhost:8080/"
        },
        "outputId": "423a2531-6eec-40f6-e55b-158944a7a9ac"
      },
      "execution_count": 69,
      "outputs": [
        {
          "output_type": "stream",
          "name": "stdout",
          "text": [
            "Average ROUGE-1 Recall: 0.5448\n",
            "Average ROUGE-1 Precision: 0.3020\n",
            "Average ROUGE-1 F1: 0.3160\n",
            "Average ROUGE-2 Recall: 0.2756\n",
            "Average ROUGE-2 Precision: 0.1288\n",
            "Average ROUGE-2 F1: 0.1435\n",
            "Average ROUGE-L Recall: 0.4629\n",
            "Average ROUGE-L Precision: 0.2627\n",
            "Average ROUGE-L F1: 0.2709\n"
          ]
        }
      ]
    },
    {
      "cell_type": "markdown",
      "source": [
        "Rouge Scores - LED LORA large on short dialogues"
      ],
      "metadata": {
        "id": "XggFkhBaSsHx"
      }
    },
    {
      "cell_type": "code",
      "source": [
        "from rouge_score import rouge_scorer\n",
        "\n",
        "# Instantiate ROUGE scorer\n",
        "scorer = rouge_scorer.RougeScorer(['rouge1', 'rouge2', 'rougeL'], use_stemmer=True)\n",
        "\n",
        "# Initialize lists to store individual scores\n",
        "rouge1_recall = []\n",
        "rouge1_precision = []\n",
        "rouge1_f1 = []\n",
        "rouge2_recall = []\n",
        "rouge2_precision = []\n",
        "rouge2_f1 = []\n",
        "rougeL_recall = []\n",
        "rougeL_precision = []\n",
        "rougeL_f1 = []\n",
        "\n",
        "# Compute ROUGE scores for each pair of prediction and reference\n",
        "for pred, ref in zip(LED_LORA_large_shortdialogue_predictions, reference_LED_LORA_large_baseline_shortdialogue):\n",
        "    score = scorer.score(pred, ref)\n",
        "    rouge1_recall.append(score['rouge1'].recall)\n",
        "    rouge1_precision.append(score['rouge1'].precision)\n",
        "    rouge1_f1.append(score['rouge1'].fmeasure)\n",
        "    rouge2_recall.append(score['rouge2'].recall)\n",
        "    rouge2_precision.append(score['rouge2'].precision)\n",
        "    rouge2_f1.append(score['rouge2'].fmeasure)\n",
        "    rougeL_recall.append(score['rougeL'].recall)\n",
        "    rougeL_precision.append(score['rougeL'].precision)\n",
        "    rougeL_f1.append(score['rougeL'].fmeasure)\n",
        "\n",
        "# Calculate average ROUGE scores\n",
        "avg_rouge1_recall_baseline = sum(rouge1_recall) / len(rouge1_recall)\n",
        "avg_rouge1_precision_baseline = sum(rouge1_precision) / len(rouge1_precision)\n",
        "avg_rouge1_f1_baseline = sum(rouge1_f1) / len(rouge1_f1)\n",
        "avg_rouge2_recall_baseline = sum(rouge2_recall) / len(rouge2_recall)\n",
        "avg_rouge2_precision_baseline = sum(rouge2_precision) / len(rouge2_precision)\n",
        "avg_rouge2_f1_baseline = sum(rouge2_f1) / len(rouge2_f1)\n",
        "avg_rougeL_recall_baseline = sum(rougeL_recall) / len(rougeL_recall)\n",
        "avg_rougeL_precision_baseline = sum(rougeL_precision) / len(rougeL_precision)\n",
        "avg_rougeL_f1_baseline = sum(rougeL_f1) / len(rougeL_f1)\n",
        "\n",
        "# Print average ROUGE scores\n",
        "print(f\"Average ROUGE-1 Recall: {avg_rouge1_recall_baseline:.4f}\")\n",
        "print(f\"Average ROUGE-1 Precision: {avg_rouge1_precision_baseline:.4f}\")\n",
        "print(f\"Average ROUGE-1 F1: {avg_rouge1_f1_baseline:.4f}\")\n",
        "print(f\"Average ROUGE-2 Recall: {avg_rouge2_recall_baseline:.4f}\")\n",
        "print(f\"Average ROUGE-2 Precision: {avg_rouge2_precision_baseline:.4f}\")\n",
        "print(f\"Average ROUGE-2 F1: {avg_rouge2_f1_baseline:.4f}\")\n",
        "print(f\"Average ROUGE-L Recall: {avg_rougeL_recall_baseline:.4f}\")\n",
        "print(f\"Average ROUGE-L Precision: {avg_rougeL_precision_baseline:.4f}\")\n",
        "print(f\"Average ROUGE-L F1: {avg_rougeL_f1_baseline:.4f}\")\n"
      ],
      "metadata": {
        "id": "5vsbeK98SbGF",
        "colab": {
          "base_uri": "https://localhost:8080/"
        },
        "outputId": "ebe40f3e-6c62-4e2f-b0a2-44f8ba7a2511"
      },
      "execution_count": 70,
      "outputs": [
        {
          "output_type": "stream",
          "name": "stdout",
          "text": [
            "Average ROUGE-1 Recall: 0.1458\n",
            "Average ROUGE-1 Precision: 0.6198\n",
            "Average ROUGE-1 F1: 0.2101\n",
            "Average ROUGE-2 Recall: 0.0590\n",
            "Average ROUGE-2 Precision: 0.2479\n",
            "Average ROUGE-2 F1: 0.0853\n",
            "Average ROUGE-L Recall: 0.0914\n",
            "Average ROUGE-L Precision: 0.4579\n",
            "Average ROUGE-L F1: 0.1351\n"
          ]
        }
      ]
    },
    {
      "cell_type": "code",
      "source": [
        "from rouge_score import rouge_scorer\n",
        "\n",
        "# Instantiate ROUGE scorer\n",
        "scorer = rouge_scorer.RougeScorer(['rouge1', 'rouge2', 'rougeL'], use_stemmer=True)\n",
        "\n",
        "# Initialize lists to store individual scores\n",
        "rouge1_recall = []\n",
        "rouge1_precision = []\n",
        "rouge1_f1 = []\n",
        "rouge2_recall = []\n",
        "rouge2_precision = []\n",
        "rouge2_f1 = []\n",
        "rougeL_recall = []\n",
        "rougeL_precision = []\n",
        "rougeL_f1 = []\n",
        "\n",
        "# Compute ROUGE scores for each pair of prediction and reference\n",
        "for pred, ref in zip(LED_LORA_large_shortdialogue_Bio_predictions, reference_LED_LORA_large_baseline_shortdialogue):\n",
        "    score = scorer.score(pred, ref)\n",
        "    rouge1_recall.append(score['rouge1'].recall)\n",
        "    rouge1_precision.append(score['rouge1'].precision)\n",
        "    rouge1_f1.append(score['rouge1'].fmeasure)\n",
        "    rouge2_recall.append(score['rouge2'].recall)\n",
        "    rouge2_precision.append(score['rouge2'].precision)\n",
        "    rouge2_f1.append(score['rouge2'].fmeasure)\n",
        "    rougeL_recall.append(score['rougeL'].recall)\n",
        "    rougeL_precision.append(score['rougeL'].precision)\n",
        "    rougeL_f1.append(score['rougeL'].fmeasure)\n",
        "\n",
        "# Calculate average ROUGE scores\n",
        "avg_rouge1_recall_baseline = sum(rouge1_recall) / len(rouge1_recall)\n",
        "avg_rouge1_precision_baseline = sum(rouge1_precision) / len(rouge1_precision)\n",
        "avg_rouge1_f1_baseline = sum(rouge1_f1) / len(rouge1_f1)\n",
        "avg_rouge2_recall_baseline = sum(rouge2_recall) / len(rouge2_recall)\n",
        "avg_rouge2_precision_baseline = sum(rouge2_precision) / len(rouge2_precision)\n",
        "avg_rouge2_f1_baseline = sum(rouge2_f1) / len(rouge2_f1)\n",
        "avg_rougeL_recall_baseline = sum(rougeL_recall) / len(rougeL_recall)\n",
        "avg_rougeL_precision_baseline = sum(rougeL_precision) / len(rougeL_precision)\n",
        "avg_rougeL_f1_baseline = sum(rougeL_f1) / len(rougeL_f1)\n",
        "\n",
        "# Print average ROUGE scores\n",
        "print(f\"Average ROUGE-1 Recall: {avg_rouge1_recall_baseline:.4f}\")\n",
        "print(f\"Average ROUGE-1 Precision: {avg_rouge1_precision_baseline:.4f}\")\n",
        "print(f\"Average ROUGE-1 F1: {avg_rouge1_f1_baseline:.4f}\")\n",
        "print(f\"Average ROUGE-2 Recall: {avg_rouge2_recall_baseline:.4f}\")\n",
        "print(f\"Average ROUGE-2 Precision: {avg_rouge2_precision_baseline:.4f}\")\n",
        "print(f\"Average ROUGE-2 F1: {avg_rouge2_f1_baseline:.4f}\")\n",
        "print(f\"Average ROUGE-L Recall: {avg_rougeL_recall_baseline:.4f}\")\n",
        "print(f\"Average ROUGE-L Precision: {avg_rougeL_precision_baseline:.4f}\")\n",
        "print(f\"Average ROUGE-L F1: {avg_rougeL_f1_baseline:.4f}\")\n"
      ],
      "metadata": {
        "id": "q_XMxQskTZoR",
        "colab": {
          "base_uri": "https://localhost:8080/"
        },
        "outputId": "4008d8ad-26f3-4bf9-b357-7eb503353f70"
      },
      "execution_count": 71,
      "outputs": [
        {
          "output_type": "stream",
          "name": "stdout",
          "text": [
            "Average ROUGE-1 Recall: 0.1139\n",
            "Average ROUGE-1 Precision: 0.6384\n",
            "Average ROUGE-1 F1: 0.1760\n",
            "Average ROUGE-2 Recall: 0.0441\n",
            "Average ROUGE-2 Precision: 0.2500\n",
            "Average ROUGE-2 F1: 0.0686\n",
            "Average ROUGE-L Recall: 0.0695\n",
            "Average ROUGE-L Precision: 0.4727\n",
            "Average ROUGE-L F1: 0.1106\n"
          ]
        }
      ]
    },
    {
      "cell_type": "code",
      "source": [
        "from rouge_score import rouge_scorer\n",
        "\n",
        "# Instantiate ROUGE scorer\n",
        "scorer = rouge_scorer.RougeScorer(['rouge1', 'rouge2', 'rougeL'], use_stemmer=True)\n",
        "\n",
        "# Initialize lists to store individual scores\n",
        "rouge1_recall = []\n",
        "rouge1_precision = []\n",
        "rouge1_f1 = []\n",
        "rouge2_recall = []\n",
        "rouge2_precision = []\n",
        "rouge2_f1 = []\n",
        "rougeL_recall = []\n",
        "rougeL_precision = []\n",
        "rougeL_f1 = []\n",
        "\n",
        "# Compute ROUGE scores for each pair of prediction and reference\n",
        "for pred, ref in zip(LED_LORA_large_shortdialogue_Clinical_predictions, reference_LED_LORA_large_baseline_shortdialogue):\n",
        "    score = scorer.score(pred, ref)\n",
        "    rouge1_recall.append(score['rouge1'].recall)\n",
        "    rouge1_precision.append(score['rouge1'].precision)\n",
        "    rouge1_f1.append(score['rouge1'].fmeasure)\n",
        "    rouge2_recall.append(score['rouge2'].recall)\n",
        "    rouge2_precision.append(score['rouge2'].precision)\n",
        "    rouge2_f1.append(score['rouge2'].fmeasure)\n",
        "    rougeL_recall.append(score['rougeL'].recall)\n",
        "    rougeL_precision.append(score['rougeL'].precision)\n",
        "    rougeL_f1.append(score['rougeL'].fmeasure)\n",
        "\n",
        "# Calculate average ROUGE scores\n",
        "avg_rouge1_recall_baseline = sum(rouge1_recall) / len(rouge1_recall)\n",
        "avg_rouge1_precision_baseline = sum(rouge1_precision) / len(rouge1_precision)\n",
        "avg_rouge1_f1_baseline = sum(rouge1_f1) / len(rouge1_f1)\n",
        "avg_rouge2_recall_baseline = sum(rouge2_recall) / len(rouge2_recall)\n",
        "avg_rouge2_precision_baseline = sum(rouge2_precision) / len(rouge2_precision)\n",
        "avg_rouge2_f1_baseline = sum(rouge2_f1) / len(rouge2_f1)\n",
        "avg_rougeL_recall_baseline = sum(rougeL_recall) / len(rougeL_recall)\n",
        "avg_rougeL_precision_baseline = sum(rougeL_precision) / len(rougeL_precision)\n",
        "avg_rougeL_f1_baseline = sum(rougeL_f1) / len(rougeL_f1)\n",
        "\n",
        "# Print average ROUGE scores\n",
        "print(f\"Average ROUGE-1 Recall: {avg_rouge1_recall_baseline:.4f}\")\n",
        "print(f\"Average ROUGE-1 Precision: {avg_rouge1_precision_baseline:.4f}\")\n",
        "print(f\"Average ROUGE-1 F1: {avg_rouge1_f1_baseline:.4f}\")\n",
        "print(f\"Average ROUGE-2 Recall: {avg_rouge2_recall_baseline:.4f}\")\n",
        "print(f\"Average ROUGE-2 Precision: {avg_rouge2_precision_baseline:.4f}\")\n",
        "print(f\"Average ROUGE-2 F1: {avg_rouge2_f1_baseline:.4f}\")\n",
        "print(f\"Average ROUGE-L Recall: {avg_rougeL_recall_baseline:.4f}\")\n",
        "print(f\"Average ROUGE-L Precision: {avg_rougeL_precision_baseline:.4f}\")\n",
        "print(f\"Average ROUGE-L F1: {avg_rougeL_f1_baseline:.4f}\")\n"
      ],
      "metadata": {
        "id": "jKvgU8lsTen0",
        "colab": {
          "base_uri": "https://localhost:8080/"
        },
        "outputId": "aec6d914-4f74-4d21-b3a3-3461012713b7"
      },
      "execution_count": 72,
      "outputs": [
        {
          "output_type": "stream",
          "name": "stdout",
          "text": [
            "Average ROUGE-1 Recall: 0.1116\n",
            "Average ROUGE-1 Precision: 0.6251\n",
            "Average ROUGE-1 F1: 0.1714\n",
            "Average ROUGE-2 Recall: 0.0431\n",
            "Average ROUGE-2 Precision: 0.2475\n",
            "Average ROUGE-2 F1: 0.0665\n",
            "Average ROUGE-L Recall: 0.0693\n",
            "Average ROUGE-L Precision: 0.4649\n",
            "Average ROUGE-L F1: 0.1095\n"
          ]
        }
      ]
    },
    {
      "cell_type": "code",
      "source": [
        "from rouge_score import rouge_scorer\n",
        "\n",
        "# Instantiate ROUGE scorer\n",
        "scorer = rouge_scorer.RougeScorer(['rouge1', 'rouge2', 'rougeL'], use_stemmer=True)\n",
        "\n",
        "# Initialize lists to store individual scores\n",
        "rouge1_recall = []\n",
        "rouge1_precision = []\n",
        "rouge1_f1 = []\n",
        "rouge2_recall = []\n",
        "rouge2_precision = []\n",
        "rouge2_f1 = []\n",
        "rougeL_recall = []\n",
        "rougeL_precision = []\n",
        "rougeL_f1 = []\n",
        "\n",
        "# Compute ROUGE scores for each pair of prediction and reference\n",
        "for pred, ref in zip(LED_LORA_large_shortdialogue_keybert_predictions, reference_LED_LORA_large_baseline_shortdialogue):\n",
        "    score = scorer.score(pred, ref)\n",
        "    rouge1_recall.append(score['rouge1'].recall)\n",
        "    rouge1_precision.append(score['rouge1'].precision)\n",
        "    rouge1_f1.append(score['rouge1'].fmeasure)\n",
        "    rouge2_recall.append(score['rouge2'].recall)\n",
        "    rouge2_precision.append(score['rouge2'].precision)\n",
        "    rouge2_f1.append(score['rouge2'].fmeasure)\n",
        "    rougeL_recall.append(score['rougeL'].recall)\n",
        "    rougeL_precision.append(score['rougeL'].precision)\n",
        "    rougeL_f1.append(score['rougeL'].fmeasure)\n",
        "\n",
        "# Calculate average ROUGE scores\n",
        "avg_rouge1_recall_baseline = sum(rouge1_recall) / len(rouge1_recall)\n",
        "avg_rouge1_precision_baseline = sum(rouge1_precision) / len(rouge1_precision)\n",
        "avg_rouge1_f1_baseline = sum(rouge1_f1) / len(rouge1_f1)\n",
        "avg_rouge2_recall_baseline = sum(rouge2_recall) / len(rouge2_recall)\n",
        "avg_rouge2_precision_baseline = sum(rouge2_precision) / len(rouge2_precision)\n",
        "avg_rouge2_f1_baseline = sum(rouge2_f1) / len(rouge2_f1)\n",
        "avg_rougeL_recall_baseline = sum(rougeL_recall) / len(rougeL_recall)\n",
        "avg_rougeL_precision_baseline = sum(rougeL_precision) / len(rougeL_precision)\n",
        "avg_rougeL_f1_baseline = sum(rougeL_f1) / len(rougeL_f1)\n",
        "\n",
        "# Print average ROUGE scores\n",
        "print(f\"Average ROUGE-1 Recall: {avg_rouge1_recall_baseline:.4f}\")\n",
        "print(f\"Average ROUGE-1 Precision: {avg_rouge1_precision_baseline:.4f}\")\n",
        "print(f\"Average ROUGE-1 F1: {avg_rouge1_f1_baseline:.4f}\")\n",
        "print(f\"Average ROUGE-2 Recall: {avg_rouge2_recall_baseline:.4f}\")\n",
        "print(f\"Average ROUGE-2 Precision: {avg_rouge2_precision_baseline:.4f}\")\n",
        "print(f\"Average ROUGE-2 F1: {avg_rouge2_f1_baseline:.4f}\")\n",
        "print(f\"Average ROUGE-L Recall: {avg_rougeL_recall_baseline:.4f}\")\n",
        "print(f\"Average ROUGE-L Precision: {avg_rougeL_precision_baseline:.4f}\")\n",
        "print(f\"Average ROUGE-L F1: {avg_rougeL_f1_baseline:.4f}\")\n"
      ],
      "metadata": {
        "id": "6t2GLAirTeuk",
        "colab": {
          "base_uri": "https://localhost:8080/"
        },
        "outputId": "d5854746-8dd2-4acc-fb0b-7dee64862542"
      },
      "execution_count": 73,
      "outputs": [
        {
          "output_type": "stream",
          "name": "stdout",
          "text": [
            "Average ROUGE-1 Recall: 0.1141\n",
            "Average ROUGE-1 Precision: 0.6180\n",
            "Average ROUGE-1 F1: 0.1732\n",
            "Average ROUGE-2 Recall: 0.0454\n",
            "Average ROUGE-2 Precision: 0.2474\n",
            "Average ROUGE-2 F1: 0.0689\n",
            "Average ROUGE-L Recall: 0.0703\n",
            "Average ROUGE-L Precision: 0.4600\n",
            "Average ROUGE-L F1: 0.1099\n"
          ]
        }
      ]
    },
    {
      "cell_type": "markdown",
      "source": [
        "Dataframe to show all metrics"
      ],
      "metadata": {
        "id": "PKJY-dNgT7a6"
      }
    },
    {
      "cell_type": "code",
      "source": [
        "from rouge_score import rouge_scorer\n",
        "import pandas as pd\n",
        "\n",
        "# Define a function to calculate ROUGE scores\n",
        "def calculate_rouge(predictions, references):\n",
        "    scorer = rouge_scorer.RougeScorer(['rouge1', 'rouge2', 'rougeL'], use_stemmer=True)\n",
        "    rouge1_recall = []\n",
        "    rouge1_precision = []\n",
        "    rouge1_f1 = []\n",
        "    rouge2_recall = []\n",
        "    rouge2_precision = []\n",
        "    rouge2_f1 = []\n",
        "    rougeL_recall = []\n",
        "    rougeL_precision = []\n",
        "    rougeL_f1 = []\n",
        "\n",
        "    for pred, ref in zip(predictions, references):\n",
        "        score = scorer.score(pred, ref)\n",
        "        rouge1_recall.append(score['rouge1'].recall)\n",
        "        rouge1_precision.append(score['rouge1'].precision)\n",
        "        rouge1_f1.append(score['rouge1'].fmeasure)\n",
        "        rouge2_recall.append(score['rouge2'].recall)\n",
        "        rouge2_precision.append(score['rouge2'].precision)\n",
        "        rouge2_f1.append(score['rouge2'].fmeasure)\n",
        "        rougeL_recall.append(score['rougeL'].recall)\n",
        "        rougeL_precision.append(score['rougeL'].precision)\n",
        "        rougeL_f1.append(score['rougeL'].fmeasure)\n",
        "\n",
        "    avg_scores = {\n",
        "        'rouge1_recall': sum(rouge1_recall) / len(rouge1_recall),\n",
        "        'rouge1_precision': sum(rouge1_precision) / len(rouge1_precision),\n",
        "        'rouge1_f1': sum(rouge1_f1) / len(rouge1_f1),\n",
        "        'rouge2_recall': sum(rouge2_recall) / len(rouge2_recall),\n",
        "        'rouge2_precision': sum(rouge2_precision) / len(rouge2_precision),\n",
        "        'rouge2_f1': sum(rouge2_f1) / len(rouge2_f1),\n",
        "        'rougeL_recall': sum(rougeL_recall) / len(rougeL_recall),\n",
        "        'rougeL_precision': sum(rougeL_precision) / len(rougeL_precision),\n",
        "        'rougeL_f1': sum(rougeL_f1) / len(rougeL_f1),\n",
        "    }\n",
        "    return avg_scores\n",
        "\n",
        "# Define your predictions and references for each model\n",
        "models_predictions_references = {\n",
        "    'flan_t5_base': (Flan_t5_base_baseline_predictions, reference_ft5_base),\n",
        "    'flan_t5_base_Bio': (Flan_t5_base_Bio_predictions, reference_ft5_base),\n",
        "    'flan_t5_base_Clinical': (Flan_t5_base_Clinical_predictions, reference_ft5_base),\n",
        "    'flan_t5_base_KeyBert': (Flan_T5_base_KeyBert_predictions, reference_ft5_base),\n",
        "    'flan_t5_base_adj': (Flan_t5_base_baseline_predictions_adj, reference_ft5_base_adj),\n",
        "    'flan_t5_base_Bio_adj': (Flan_t5_base_Bio_predictions_adj, reference_ft5_base_adj),\n",
        "    'flan_t5_base_Clinical_adj': (Flan_t5_base_Clinical_predictions_adj, reference_ft5_base_adj),\n",
        "    'flan_t5_base_KeyBert_adj': (Flan_T5_base_KeyBert_predictions_adj, reference_ft5_base_adj),\n",
        "    'flan_t5_large': (Flan_t5_large_baseline_predictions, reference_ft5_large),\n",
        "    'flan_t5_large_Bio': (Flan_t5_large_Bio_predictions, reference_ft5_large),\n",
        "    'flan_t5_large_Clinical': (Flan_t5_large_Clinical_predictions, reference_ft5_large),\n",
        "    'flan_t5_large_KeyBert': (Flan_T5_large_KeyBert_predictions, reference_ft5_large),\n",
        "    'LED_large_shortdialogue': (LED_LORA_large_shortdialogue_predictions, reference_LED_LORA_large_baseline_shortdialogue),\n",
        "    'LED_large_Bio_shortdialogues': (LED_LORA_large_shortdialogue_Bio_predictions, reference_LED_LORA_large_baseline_shortdialogue),\n",
        "    'LED_large_Clinical_shortdialogue': (LED_LORA_large_shortdialogue_Clinical_predictions, reference_LED_LORA_large_baseline_shortdialogue),\n",
        "    'LED_large_keybert_shortdialogues': (LED_LORA_large_shortdialogue_keybert_predictions, reference_LED_LORA_large_baseline_shortdialogue),\n",
        "}\n",
        "\n",
        "# Calculate scores for each model\n",
        "scores = {}\n",
        "for model_name, (predictions, references) in models_predictions_references.items():\n",
        "    scores[model_name] = calculate_rouge(predictions, references)\n",
        "\n",
        "# Convert the dictionary to a DataFrame\n",
        "df = pd.DataFrame.from_dict(scores, orient='index')\n",
        "\n",
        "# Reset the index to have a column for the model names\n",
        "df.reset_index(inplace=True)\n",
        "df.rename(columns={'index': 'model'}, inplace=True)\n",
        "\n",
        "# Insert empty rows at the specified positions\n",
        "df.loc[3.4] = [''] * len(df.columns)  # Insert before 'flan_t5_base_KeyBert'\n",
        "df.loc[7.4] = [''] * len(df.columns)  # Insert before 'flan_t5_base_KeyBert_adj'\n",
        "df.loc[11.4] = [''] * len(df.columns)  # Insert before 'flan_t5_large_KeyBert'\n",
        "\n",
        "# Sort the index to position the empty rows correctly\n",
        "df.sort_index(inplace=True)\n",
        "\n",
        "# Display the DataFrame\n",
        "df\n"
      ],
      "metadata": {
        "colab": {
          "base_uri": "https://localhost:8080/",
          "height": 645
        },
        "id": "xef_4hZijn1L",
        "outputId": "94c77bd8-5baa-4c09-a3d7-98e1fea960c0"
      },
      "execution_count": 76,
      "outputs": [
        {
          "output_type": "execute_result",
          "data": {
            "text/plain": [
              "                                 model rouge1_recall rouge1_precision  \\\n",
              "0.0                       flan_t5_base      0.504926         0.260104   \n",
              "1.0                   flan_t5_base_Bio      0.515908         0.260468   \n",
              "2.0              flan_t5_base_Clinical      0.508469         0.246695   \n",
              "3.0               flan_t5_base_KeyBert      0.516668          0.24998   \n",
              "3.4                                                                     \n",
              "4.0                   flan_t5_base_adj       0.53867         0.257973   \n",
              "5.0               flan_t5_base_Bio_adj      0.522582           0.2518   \n",
              "6.0          flan_t5_base_Clinical_adj      0.529982         0.246754   \n",
              "7.0           flan_t5_base_KeyBert_adj       0.53134         0.245977   \n",
              "7.4                                                                     \n",
              "8.0                      flan_t5_large       0.56019          0.29933   \n",
              "9.0                  flan_t5_large_Bio      0.535663         0.289702   \n",
              "10.0            flan_t5_large_Clinical      0.528448         0.288709   \n",
              "11.0             flan_t5_large_KeyBert      0.544811         0.302047   \n",
              "11.4                                                                    \n",
              "12.0           LED_large_shortdialogue      0.145798         0.619763   \n",
              "13.0      LED_large_Bio_shortdialogues      0.113898          0.63843   \n",
              "14.0  LED_large_Clinical_shortdialogue      0.111608         0.625125   \n",
              "15.0  LED_large_keybert_shortdialogues      0.114088          0.61805   \n",
              "\n",
              "     rouge1_f1 rouge2_recall rouge2_precision rouge2_f1 rougeL_recall  \\\n",
              "0.0   0.289646      0.238523           0.1016  0.121821      0.432544   \n",
              "1.0   0.291812      0.242375          0.10598  0.125107        0.4371   \n",
              "2.0    0.28176       0.23414          0.10187   0.11998      0.426827   \n",
              "3.0   0.282631      0.249743         0.103053  0.123963      0.442613   \n",
              "3.4                                                                     \n",
              "4.0   0.297801      0.257715         0.098484  0.122007      0.463502   \n",
              "5.0   0.285524      0.243753         0.099906  0.119974      0.444374   \n",
              "6.0   0.289024      0.246005         0.099019  0.119002      0.447922   \n",
              "7.0   0.286838      0.257137         0.104204  0.127201      0.455192   \n",
              "7.4                                                                     \n",
              "8.0   0.326904      0.288517         0.132457  0.155356      0.483347   \n",
              "9.0   0.309183      0.264882         0.123208  0.137307      0.454143   \n",
              "10.0  0.305591       0.26412         0.122855  0.138635       0.45087   \n",
              "11.0  0.316041      0.275646         0.128758  0.143544      0.462915   \n",
              "11.4                                                                    \n",
              "12.0  0.210123      0.058982         0.247876  0.085295      0.091384   \n",
              "13.0  0.175973      0.044135         0.249987  0.068606      0.069493   \n",
              "14.0  0.171421       0.04308         0.247484  0.066547      0.069339   \n",
              "15.0  0.173164       0.04535         0.247427  0.068862       0.07029   \n",
              "\n",
              "     rougeL_precision rougeL_f1  \n",
              "0.0          0.230183   0.25288  \n",
              "1.0          0.229046   0.25268  \n",
              "2.0          0.216081  0.242329  \n",
              "3.0          0.220257  0.246436  \n",
              "3.4                              \n",
              "4.0          0.231401  0.262461  \n",
              "5.0          0.220876  0.247951  \n",
              "6.0          0.216439  0.249797  \n",
              "7.0          0.216191  0.249707  \n",
              "7.4                              \n",
              "8.0          0.263894  0.286057  \n",
              "9.0          0.251869  0.265656  \n",
              "10.0         0.253414  0.264318  \n",
              "11.0         0.262658  0.270856  \n",
              "11.4                             \n",
              "12.0         0.457851  0.135062  \n",
              "13.0         0.472727  0.110577  \n",
              "14.0         0.464925  0.109464  \n",
              "15.0         0.459999  0.109924  "
            ],
            "text/html": [
              "\n",
              "  <div id=\"df-105d77a5-5b53-405e-ae37-812600b15903\" class=\"colab-df-container\">\n",
              "    <div>\n",
              "<style scoped>\n",
              "    .dataframe tbody tr th:only-of-type {\n",
              "        vertical-align: middle;\n",
              "    }\n",
              "\n",
              "    .dataframe tbody tr th {\n",
              "        vertical-align: top;\n",
              "    }\n",
              "\n",
              "    .dataframe thead th {\n",
              "        text-align: right;\n",
              "    }\n",
              "</style>\n",
              "<table border=\"1\" class=\"dataframe\">\n",
              "  <thead>\n",
              "    <tr style=\"text-align: right;\">\n",
              "      <th></th>\n",
              "      <th>model</th>\n",
              "      <th>rouge1_recall</th>\n",
              "      <th>rouge1_precision</th>\n",
              "      <th>rouge1_f1</th>\n",
              "      <th>rouge2_recall</th>\n",
              "      <th>rouge2_precision</th>\n",
              "      <th>rouge2_f1</th>\n",
              "      <th>rougeL_recall</th>\n",
              "      <th>rougeL_precision</th>\n",
              "      <th>rougeL_f1</th>\n",
              "    </tr>\n",
              "  </thead>\n",
              "  <tbody>\n",
              "    <tr>\n",
              "      <th>0.0</th>\n",
              "      <td>flan_t5_base</td>\n",
              "      <td>0.504926</td>\n",
              "      <td>0.260104</td>\n",
              "      <td>0.289646</td>\n",
              "      <td>0.238523</td>\n",
              "      <td>0.1016</td>\n",
              "      <td>0.121821</td>\n",
              "      <td>0.432544</td>\n",
              "      <td>0.230183</td>\n",
              "      <td>0.25288</td>\n",
              "    </tr>\n",
              "    <tr>\n",
              "      <th>1.0</th>\n",
              "      <td>flan_t5_base_Bio</td>\n",
              "      <td>0.515908</td>\n",
              "      <td>0.260468</td>\n",
              "      <td>0.291812</td>\n",
              "      <td>0.242375</td>\n",
              "      <td>0.10598</td>\n",
              "      <td>0.125107</td>\n",
              "      <td>0.4371</td>\n",
              "      <td>0.229046</td>\n",
              "      <td>0.25268</td>\n",
              "    </tr>\n",
              "    <tr>\n",
              "      <th>2.0</th>\n",
              "      <td>flan_t5_base_Clinical</td>\n",
              "      <td>0.508469</td>\n",
              "      <td>0.246695</td>\n",
              "      <td>0.28176</td>\n",
              "      <td>0.23414</td>\n",
              "      <td>0.10187</td>\n",
              "      <td>0.11998</td>\n",
              "      <td>0.426827</td>\n",
              "      <td>0.216081</td>\n",
              "      <td>0.242329</td>\n",
              "    </tr>\n",
              "    <tr>\n",
              "      <th>3.0</th>\n",
              "      <td>flan_t5_base_KeyBert</td>\n",
              "      <td>0.516668</td>\n",
              "      <td>0.24998</td>\n",
              "      <td>0.282631</td>\n",
              "      <td>0.249743</td>\n",
              "      <td>0.103053</td>\n",
              "      <td>0.123963</td>\n",
              "      <td>0.442613</td>\n",
              "      <td>0.220257</td>\n",
              "      <td>0.246436</td>\n",
              "    </tr>\n",
              "    <tr>\n",
              "      <th>3.4</th>\n",
              "      <td></td>\n",
              "      <td></td>\n",
              "      <td></td>\n",
              "      <td></td>\n",
              "      <td></td>\n",
              "      <td></td>\n",
              "      <td></td>\n",
              "      <td></td>\n",
              "      <td></td>\n",
              "      <td></td>\n",
              "    </tr>\n",
              "    <tr>\n",
              "      <th>4.0</th>\n",
              "      <td>flan_t5_base_adj</td>\n",
              "      <td>0.53867</td>\n",
              "      <td>0.257973</td>\n",
              "      <td>0.297801</td>\n",
              "      <td>0.257715</td>\n",
              "      <td>0.098484</td>\n",
              "      <td>0.122007</td>\n",
              "      <td>0.463502</td>\n",
              "      <td>0.231401</td>\n",
              "      <td>0.262461</td>\n",
              "    </tr>\n",
              "    <tr>\n",
              "      <th>5.0</th>\n",
              "      <td>flan_t5_base_Bio_adj</td>\n",
              "      <td>0.522582</td>\n",
              "      <td>0.2518</td>\n",
              "      <td>0.285524</td>\n",
              "      <td>0.243753</td>\n",
              "      <td>0.099906</td>\n",
              "      <td>0.119974</td>\n",
              "      <td>0.444374</td>\n",
              "      <td>0.220876</td>\n",
              "      <td>0.247951</td>\n",
              "    </tr>\n",
              "    <tr>\n",
              "      <th>6.0</th>\n",
              "      <td>flan_t5_base_Clinical_adj</td>\n",
              "      <td>0.529982</td>\n",
              "      <td>0.246754</td>\n",
              "      <td>0.289024</td>\n",
              "      <td>0.246005</td>\n",
              "      <td>0.099019</td>\n",
              "      <td>0.119002</td>\n",
              "      <td>0.447922</td>\n",
              "      <td>0.216439</td>\n",
              "      <td>0.249797</td>\n",
              "    </tr>\n",
              "    <tr>\n",
              "      <th>7.0</th>\n",
              "      <td>flan_t5_base_KeyBert_adj</td>\n",
              "      <td>0.53134</td>\n",
              "      <td>0.245977</td>\n",
              "      <td>0.286838</td>\n",
              "      <td>0.257137</td>\n",
              "      <td>0.104204</td>\n",
              "      <td>0.127201</td>\n",
              "      <td>0.455192</td>\n",
              "      <td>0.216191</td>\n",
              "      <td>0.249707</td>\n",
              "    </tr>\n",
              "    <tr>\n",
              "      <th>7.4</th>\n",
              "      <td></td>\n",
              "      <td></td>\n",
              "      <td></td>\n",
              "      <td></td>\n",
              "      <td></td>\n",
              "      <td></td>\n",
              "      <td></td>\n",
              "      <td></td>\n",
              "      <td></td>\n",
              "      <td></td>\n",
              "    </tr>\n",
              "    <tr>\n",
              "      <th>8.0</th>\n",
              "      <td>flan_t5_large</td>\n",
              "      <td>0.56019</td>\n",
              "      <td>0.29933</td>\n",
              "      <td>0.326904</td>\n",
              "      <td>0.288517</td>\n",
              "      <td>0.132457</td>\n",
              "      <td>0.155356</td>\n",
              "      <td>0.483347</td>\n",
              "      <td>0.263894</td>\n",
              "      <td>0.286057</td>\n",
              "    </tr>\n",
              "    <tr>\n",
              "      <th>9.0</th>\n",
              "      <td>flan_t5_large_Bio</td>\n",
              "      <td>0.535663</td>\n",
              "      <td>0.289702</td>\n",
              "      <td>0.309183</td>\n",
              "      <td>0.264882</td>\n",
              "      <td>0.123208</td>\n",
              "      <td>0.137307</td>\n",
              "      <td>0.454143</td>\n",
              "      <td>0.251869</td>\n",
              "      <td>0.265656</td>\n",
              "    </tr>\n",
              "    <tr>\n",
              "      <th>10.0</th>\n",
              "      <td>flan_t5_large_Clinical</td>\n",
              "      <td>0.528448</td>\n",
              "      <td>0.288709</td>\n",
              "      <td>0.305591</td>\n",
              "      <td>0.26412</td>\n",
              "      <td>0.122855</td>\n",
              "      <td>0.138635</td>\n",
              "      <td>0.45087</td>\n",
              "      <td>0.253414</td>\n",
              "      <td>0.264318</td>\n",
              "    </tr>\n",
              "    <tr>\n",
              "      <th>11.0</th>\n",
              "      <td>flan_t5_large_KeyBert</td>\n",
              "      <td>0.544811</td>\n",
              "      <td>0.302047</td>\n",
              "      <td>0.316041</td>\n",
              "      <td>0.275646</td>\n",
              "      <td>0.128758</td>\n",
              "      <td>0.143544</td>\n",
              "      <td>0.462915</td>\n",
              "      <td>0.262658</td>\n",
              "      <td>0.270856</td>\n",
              "    </tr>\n",
              "    <tr>\n",
              "      <th>11.4</th>\n",
              "      <td></td>\n",
              "      <td></td>\n",
              "      <td></td>\n",
              "      <td></td>\n",
              "      <td></td>\n",
              "      <td></td>\n",
              "      <td></td>\n",
              "      <td></td>\n",
              "      <td></td>\n",
              "      <td></td>\n",
              "    </tr>\n",
              "    <tr>\n",
              "      <th>12.0</th>\n",
              "      <td>LED_large_shortdialogue</td>\n",
              "      <td>0.145798</td>\n",
              "      <td>0.619763</td>\n",
              "      <td>0.210123</td>\n",
              "      <td>0.058982</td>\n",
              "      <td>0.247876</td>\n",
              "      <td>0.085295</td>\n",
              "      <td>0.091384</td>\n",
              "      <td>0.457851</td>\n",
              "      <td>0.135062</td>\n",
              "    </tr>\n",
              "    <tr>\n",
              "      <th>13.0</th>\n",
              "      <td>LED_large_Bio_shortdialogues</td>\n",
              "      <td>0.113898</td>\n",
              "      <td>0.63843</td>\n",
              "      <td>0.175973</td>\n",
              "      <td>0.044135</td>\n",
              "      <td>0.249987</td>\n",
              "      <td>0.068606</td>\n",
              "      <td>0.069493</td>\n",
              "      <td>0.472727</td>\n",
              "      <td>0.110577</td>\n",
              "    </tr>\n",
              "    <tr>\n",
              "      <th>14.0</th>\n",
              "      <td>LED_large_Clinical_shortdialogue</td>\n",
              "      <td>0.111608</td>\n",
              "      <td>0.625125</td>\n",
              "      <td>0.171421</td>\n",
              "      <td>0.04308</td>\n",
              "      <td>0.247484</td>\n",
              "      <td>0.066547</td>\n",
              "      <td>0.069339</td>\n",
              "      <td>0.464925</td>\n",
              "      <td>0.109464</td>\n",
              "    </tr>\n",
              "    <tr>\n",
              "      <th>15.0</th>\n",
              "      <td>LED_large_keybert_shortdialogues</td>\n",
              "      <td>0.114088</td>\n",
              "      <td>0.61805</td>\n",
              "      <td>0.173164</td>\n",
              "      <td>0.04535</td>\n",
              "      <td>0.247427</td>\n",
              "      <td>0.068862</td>\n",
              "      <td>0.07029</td>\n",
              "      <td>0.459999</td>\n",
              "      <td>0.109924</td>\n",
              "    </tr>\n",
              "  </tbody>\n",
              "</table>\n",
              "</div>\n",
              "    <div class=\"colab-df-buttons\">\n",
              "\n",
              "  <div class=\"colab-df-container\">\n",
              "    <button class=\"colab-df-convert\" onclick=\"convertToInteractive('df-105d77a5-5b53-405e-ae37-812600b15903')\"\n",
              "            title=\"Convert this dataframe to an interactive table.\"\n",
              "            style=\"display:none;\">\n",
              "\n",
              "  <svg xmlns=\"http://www.w3.org/2000/svg\" height=\"24px\" viewBox=\"0 -960 960 960\">\n",
              "    <path d=\"M120-120v-720h720v720H120Zm60-500h600v-160H180v160Zm220 220h160v-160H400v160Zm0 220h160v-160H400v160ZM180-400h160v-160H180v160Zm440 0h160v-160H620v160ZM180-180h160v-160H180v160Zm440 0h160v-160H620v160Z\"/>\n",
              "  </svg>\n",
              "    </button>\n",
              "\n",
              "  <style>\n",
              "    .colab-df-container {\n",
              "      display:flex;\n",
              "      gap: 12px;\n",
              "    }\n",
              "\n",
              "    .colab-df-convert {\n",
              "      background-color: #E8F0FE;\n",
              "      border: none;\n",
              "      border-radius: 50%;\n",
              "      cursor: pointer;\n",
              "      display: none;\n",
              "      fill: #1967D2;\n",
              "      height: 32px;\n",
              "      padding: 0 0 0 0;\n",
              "      width: 32px;\n",
              "    }\n",
              "\n",
              "    .colab-df-convert:hover {\n",
              "      background-color: #E2EBFA;\n",
              "      box-shadow: 0px 1px 2px rgba(60, 64, 67, 0.3), 0px 1px 3px 1px rgba(60, 64, 67, 0.15);\n",
              "      fill: #174EA6;\n",
              "    }\n",
              "\n",
              "    .colab-df-buttons div {\n",
              "      margin-bottom: 4px;\n",
              "    }\n",
              "\n",
              "    [theme=dark] .colab-df-convert {\n",
              "      background-color: #3B4455;\n",
              "      fill: #D2E3FC;\n",
              "    }\n",
              "\n",
              "    [theme=dark] .colab-df-convert:hover {\n",
              "      background-color: #434B5C;\n",
              "      box-shadow: 0px 1px 3px 1px rgba(0, 0, 0, 0.15);\n",
              "      filter: drop-shadow(0px 1px 2px rgba(0, 0, 0, 0.3));\n",
              "      fill: #FFFFFF;\n",
              "    }\n",
              "  </style>\n",
              "\n",
              "    <script>\n",
              "      const buttonEl =\n",
              "        document.querySelector('#df-105d77a5-5b53-405e-ae37-812600b15903 button.colab-df-convert');\n",
              "      buttonEl.style.display =\n",
              "        google.colab.kernel.accessAllowed ? 'block' : 'none';\n",
              "\n",
              "      async function convertToInteractive(key) {\n",
              "        const element = document.querySelector('#df-105d77a5-5b53-405e-ae37-812600b15903');\n",
              "        const dataTable =\n",
              "          await google.colab.kernel.invokeFunction('convertToInteractive',\n",
              "                                                    [key], {});\n",
              "        if (!dataTable) return;\n",
              "\n",
              "        const docLinkHtml = 'Like what you see? Visit the ' +\n",
              "          '<a target=\"_blank\" href=https://colab.research.google.com/notebooks/data_table.ipynb>data table notebook</a>'\n",
              "          + ' to learn more about interactive tables.';\n",
              "        element.innerHTML = '';\n",
              "        dataTable['output_type'] = 'display_data';\n",
              "        await google.colab.output.renderOutput(dataTable, element);\n",
              "        const docLink = document.createElement('div');\n",
              "        docLink.innerHTML = docLinkHtml;\n",
              "        element.appendChild(docLink);\n",
              "      }\n",
              "    </script>\n",
              "  </div>\n",
              "\n",
              "\n",
              "<div id=\"df-35e21649-0c09-4a7e-ac74-2cc585c097f3\">\n",
              "  <button class=\"colab-df-quickchart\" onclick=\"quickchart('df-35e21649-0c09-4a7e-ac74-2cc585c097f3')\"\n",
              "            title=\"Suggest charts\"\n",
              "            style=\"display:none;\">\n",
              "\n",
              "<svg xmlns=\"http://www.w3.org/2000/svg\" height=\"24px\"viewBox=\"0 0 24 24\"\n",
              "     width=\"24px\">\n",
              "    <g>\n",
              "        <path d=\"M19 3H5c-1.1 0-2 .9-2 2v14c0 1.1.9 2 2 2h14c1.1 0 2-.9 2-2V5c0-1.1-.9-2-2-2zM9 17H7v-7h2v7zm4 0h-2V7h2v10zm4 0h-2v-4h2v4z\"/>\n",
              "    </g>\n",
              "</svg>\n",
              "  </button>\n",
              "\n",
              "<style>\n",
              "  .colab-df-quickchart {\n",
              "      --bg-color: #E8F0FE;\n",
              "      --fill-color: #1967D2;\n",
              "      --hover-bg-color: #E2EBFA;\n",
              "      --hover-fill-color: #174EA6;\n",
              "      --disabled-fill-color: #AAA;\n",
              "      --disabled-bg-color: #DDD;\n",
              "  }\n",
              "\n",
              "  [theme=dark] .colab-df-quickchart {\n",
              "      --bg-color: #3B4455;\n",
              "      --fill-color: #D2E3FC;\n",
              "      --hover-bg-color: #434B5C;\n",
              "      --hover-fill-color: #FFFFFF;\n",
              "      --disabled-bg-color: #3B4455;\n",
              "      --disabled-fill-color: #666;\n",
              "  }\n",
              "\n",
              "  .colab-df-quickchart {\n",
              "    background-color: var(--bg-color);\n",
              "    border: none;\n",
              "    border-radius: 50%;\n",
              "    cursor: pointer;\n",
              "    display: none;\n",
              "    fill: var(--fill-color);\n",
              "    height: 32px;\n",
              "    padding: 0;\n",
              "    width: 32px;\n",
              "  }\n",
              "\n",
              "  .colab-df-quickchart:hover {\n",
              "    background-color: var(--hover-bg-color);\n",
              "    box-shadow: 0 1px 2px rgba(60, 64, 67, 0.3), 0 1px 3px 1px rgba(60, 64, 67, 0.15);\n",
              "    fill: var(--button-hover-fill-color);\n",
              "  }\n",
              "\n",
              "  .colab-df-quickchart-complete:disabled,\n",
              "  .colab-df-quickchart-complete:disabled:hover {\n",
              "    background-color: var(--disabled-bg-color);\n",
              "    fill: var(--disabled-fill-color);\n",
              "    box-shadow: none;\n",
              "  }\n",
              "\n",
              "  .colab-df-spinner {\n",
              "    border: 2px solid var(--fill-color);\n",
              "    border-color: transparent;\n",
              "    border-bottom-color: var(--fill-color);\n",
              "    animation:\n",
              "      spin 1s steps(1) infinite;\n",
              "  }\n",
              "\n",
              "  @keyframes spin {\n",
              "    0% {\n",
              "      border-color: transparent;\n",
              "      border-bottom-color: var(--fill-color);\n",
              "      border-left-color: var(--fill-color);\n",
              "    }\n",
              "    20% {\n",
              "      border-color: transparent;\n",
              "      border-left-color: var(--fill-color);\n",
              "      border-top-color: var(--fill-color);\n",
              "    }\n",
              "    30% {\n",
              "      border-color: transparent;\n",
              "      border-left-color: var(--fill-color);\n",
              "      border-top-color: var(--fill-color);\n",
              "      border-right-color: var(--fill-color);\n",
              "    }\n",
              "    40% {\n",
              "      border-color: transparent;\n",
              "      border-right-color: var(--fill-color);\n",
              "      border-top-color: var(--fill-color);\n",
              "    }\n",
              "    60% {\n",
              "      border-color: transparent;\n",
              "      border-right-color: var(--fill-color);\n",
              "    }\n",
              "    80% {\n",
              "      border-color: transparent;\n",
              "      border-right-color: var(--fill-color);\n",
              "      border-bottom-color: var(--fill-color);\n",
              "    }\n",
              "    90% {\n",
              "      border-color: transparent;\n",
              "      border-bottom-color: var(--fill-color);\n",
              "    }\n",
              "  }\n",
              "</style>\n",
              "\n",
              "  <script>\n",
              "    async function quickchart(key) {\n",
              "      const quickchartButtonEl =\n",
              "        document.querySelector('#' + key + ' button');\n",
              "      quickchartButtonEl.disabled = true;  // To prevent multiple clicks.\n",
              "      quickchartButtonEl.classList.add('colab-df-spinner');\n",
              "      try {\n",
              "        const charts = await google.colab.kernel.invokeFunction(\n",
              "            'suggestCharts', [key], {});\n",
              "      } catch (error) {\n",
              "        console.error('Error during call to suggestCharts:', error);\n",
              "      }\n",
              "      quickchartButtonEl.classList.remove('colab-df-spinner');\n",
              "      quickchartButtonEl.classList.add('colab-df-quickchart-complete');\n",
              "    }\n",
              "    (() => {\n",
              "      let quickchartButtonEl =\n",
              "        document.querySelector('#df-35e21649-0c09-4a7e-ac74-2cc585c097f3 button');\n",
              "      quickchartButtonEl.style.display =\n",
              "        google.colab.kernel.accessAllowed ? 'block' : 'none';\n",
              "    })();\n",
              "  </script>\n",
              "</div>\n",
              "\n",
              "  <div id=\"id_59b20281-955f-457a-9f45-6b7ad6ddedf3\">\n",
              "    <style>\n",
              "      .colab-df-generate {\n",
              "        background-color: #E8F0FE;\n",
              "        border: none;\n",
              "        border-radius: 50%;\n",
              "        cursor: pointer;\n",
              "        display: none;\n",
              "        fill: #1967D2;\n",
              "        height: 32px;\n",
              "        padding: 0 0 0 0;\n",
              "        width: 32px;\n",
              "      }\n",
              "\n",
              "      .colab-df-generate:hover {\n",
              "        background-color: #E2EBFA;\n",
              "        box-shadow: 0px 1px 2px rgba(60, 64, 67, 0.3), 0px 1px 3px 1px rgba(60, 64, 67, 0.15);\n",
              "        fill: #174EA6;\n",
              "      }\n",
              "\n",
              "      [theme=dark] .colab-df-generate {\n",
              "        background-color: #3B4455;\n",
              "        fill: #D2E3FC;\n",
              "      }\n",
              "\n",
              "      [theme=dark] .colab-df-generate:hover {\n",
              "        background-color: #434B5C;\n",
              "        box-shadow: 0px 1px 3px 1px rgba(0, 0, 0, 0.15);\n",
              "        filter: drop-shadow(0px 1px 2px rgba(0, 0, 0, 0.3));\n",
              "        fill: #FFFFFF;\n",
              "      }\n",
              "    </style>\n",
              "    <button class=\"colab-df-generate\" onclick=\"generateWithVariable('df')\"\n",
              "            title=\"Generate code using this dataframe.\"\n",
              "            style=\"display:none;\">\n",
              "\n",
              "  <svg xmlns=\"http://www.w3.org/2000/svg\" height=\"24px\"viewBox=\"0 0 24 24\"\n",
              "       width=\"24px\">\n",
              "    <path d=\"M7,19H8.4L18.45,9,17,7.55,7,17.6ZM5,21V16.75L18.45,3.32a2,2,0,0,1,2.83,0l1.4,1.43a1.91,1.91,0,0,1,.58,1.4,1.91,1.91,0,0,1-.58,1.4L9.25,21ZM18.45,9,17,7.55Zm-12,3A5.31,5.31,0,0,0,4.9,8.1,5.31,5.31,0,0,0,1,6.5,5.31,5.31,0,0,0,4.9,4.9,5.31,5.31,0,0,0,6.5,1,5.31,5.31,0,0,0,8.1,4.9,5.31,5.31,0,0,0,12,6.5,5.46,5.46,0,0,0,6.5,12Z\"/>\n",
              "  </svg>\n",
              "    </button>\n",
              "    <script>\n",
              "      (() => {\n",
              "      const buttonEl =\n",
              "        document.querySelector('#id_59b20281-955f-457a-9f45-6b7ad6ddedf3 button.colab-df-generate');\n",
              "      buttonEl.style.display =\n",
              "        google.colab.kernel.accessAllowed ? 'block' : 'none';\n",
              "\n",
              "      buttonEl.onclick = () => {\n",
              "        google.colab.notebook.generateWithVariable('df');\n",
              "      }\n",
              "      })();\n",
              "    </script>\n",
              "  </div>\n",
              "\n",
              "    </div>\n",
              "  </div>\n"
            ],
            "application/vnd.google.colaboratory.intrinsic+json": {
              "type": "dataframe",
              "variable_name": "df",
              "summary": "{\n  \"name\": \"df\",\n  \"rows\": 19,\n  \"fields\": [\n    {\n      \"column\": \"model\",\n      \"properties\": {\n        \"dtype\": \"string\",\n        \"num_unique_values\": 17,\n        \"samples\": [\n          \"flan_t5_base\",\n          \"flan_t5_base_Bio\",\n          \"flan_t5_base_adj\"\n        ],\n        \"semantic_type\": \"\",\n        \"description\": \"\"\n      }\n    },\n    {\n      \"column\": \"rouge1_recall\",\n      \"properties\": {\n        \"dtype\": \"date\",\n        \"min\": \"1970-01-01 00:00:00\",\n        \"max\": \"1970-01-01 00:00:00\",\n        \"num_unique_values\": 17,\n        \"samples\": [\n          0.5049255097049214,\n          0.5159082802465155,\n          0.538670104478928\n        ],\n        \"semantic_type\": \"\",\n        \"description\": \"\"\n      }\n    },\n    {\n      \"column\": \"rouge1_precision\",\n      \"properties\": {\n        \"dtype\": \"date\",\n        \"min\": \"1970-01-01 00:00:00\",\n        \"max\": \"1970-01-01 00:00:00\",\n        \"num_unique_values\": 17,\n        \"samples\": [\n          0.2601044008722785,\n          0.2604680871456561,\n          0.25797270480885953\n        ],\n        \"semantic_type\": \"\",\n        \"description\": \"\"\n      }\n    },\n    {\n      \"column\": \"rouge1_f1\",\n      \"properties\": {\n        \"dtype\": \"date\",\n        \"min\": \"1970-01-01 00:00:00\",\n        \"max\": \"1970-01-01 00:00:00\",\n        \"num_unique_values\": 17,\n        \"samples\": [\n          0.289646208502012,\n          0.29181198432819555,\n          0.2978013691183116\n        ],\n        \"semantic_type\": \"\",\n        \"description\": \"\"\n      }\n    },\n    {\n      \"column\": \"rouge2_recall\",\n      \"properties\": {\n        \"dtype\": \"date\",\n        \"min\": \"1970-01-01 00:00:00\",\n        \"max\": \"1970-01-01 00:00:00\",\n        \"num_unique_values\": 17,\n        \"samples\": [\n          0.2385225984490691,\n          0.2423745486245487,\n          0.25771526249467436\n        ],\n        \"semantic_type\": \"\",\n        \"description\": \"\"\n      }\n    },\n    {\n      \"column\": \"rouge2_precision\",\n      \"properties\": {\n        \"dtype\": \"date\",\n        \"min\": \"1970-01-01 00:00:00\",\n        \"max\": \"1970-01-01 00:00:00\",\n        \"num_unique_values\": 17,\n        \"samples\": [\n          0.10159951973680402,\n          0.10597955761052716,\n          0.09848444340877482\n        ],\n        \"semantic_type\": \"\",\n        \"description\": \"\"\n      }\n    },\n    {\n      \"column\": \"rouge2_f1\",\n      \"properties\": {\n        \"dtype\": \"date\",\n        \"min\": \"1970-01-01 00:00:00\",\n        \"max\": \"1970-01-01 00:00:00\",\n        \"num_unique_values\": 17,\n        \"samples\": [\n          0.12182130583241245,\n          0.12510665852548494,\n          0.12200729774731893\n        ],\n        \"semantic_type\": \"\",\n        \"description\": \"\"\n      }\n    },\n    {\n      \"column\": \"rougeL_recall\",\n      \"properties\": {\n        \"dtype\": \"date\",\n        \"min\": \"1970-01-01 00:00:00\",\n        \"max\": \"1970-01-01 00:00:00\",\n        \"num_unique_values\": 17,\n        \"samples\": [\n          0.43254363805834406,\n          0.4371001749678221,\n          0.46350242526713104\n        ],\n        \"semantic_type\": \"\",\n        \"description\": \"\"\n      }\n    },\n    {\n      \"column\": \"rougeL_precision\",\n      \"properties\": {\n        \"dtype\": \"date\",\n        \"min\": \"1970-01-01 00:00:00\",\n        \"max\": \"1970-01-01 00:00:00\",\n        \"num_unique_values\": 17,\n        \"samples\": [\n          0.23018341999746988,\n          0.22904633118769185,\n          0.23140083540577297\n        ],\n        \"semantic_type\": \"\",\n        \"description\": \"\"\n      }\n    },\n    {\n      \"column\": \"rougeL_f1\",\n      \"properties\": {\n        \"dtype\": \"date\",\n        \"min\": \"1970-01-01 00:00:00\",\n        \"max\": \"1970-01-01 00:00:00\",\n        \"num_unique_values\": 17,\n        \"samples\": [\n          0.25287963591815715,\n          0.25267968101398663,\n          0.26246132704602304\n        ],\n        \"semantic_type\": \"\",\n        \"description\": \"\"\n      }\n    }\n  ]\n}"
            }
          },
          "metadata": {},
          "execution_count": 76
        }
      ]
    },
    {
      "cell_type": "code",
      "source": [
        "from rouge_score import rouge_scorer\n",
        "import pandas as pd\n",
        "\n",
        "# Define a function to calculate ROUGE scores\n",
        "def calculate_rouge(predictions, references):\n",
        "    scorer = rouge_scorer.RougeScorer(['rouge1', 'rouge2', 'rougeL'], use_stemmer=True)\n",
        "    rouge1_recall = []\n",
        "    rouge1_precision = []\n",
        "    rouge1_f1 = []\n",
        "    rouge2_recall = []\n",
        "    rouge2_precision = []\n",
        "    rouge2_f1 = []\n",
        "    rougeL_recall = []\n",
        "    rougeL_precision = []\n",
        "    rougeL_f1 = []\n",
        "\n",
        "    for pred, ref in zip(predictions, references):\n",
        "        score = scorer.score(pred, ref)\n",
        "        rouge1_recall.append(score['rouge1'].recall)\n",
        "        rouge1_precision.append(score['rouge1'].precision)\n",
        "        rouge1_f1.append(score['rouge1'].fmeasure)\n",
        "        rouge2_recall.append(score['rouge2'].recall)\n",
        "        rouge2_precision.append(score['rouge2'].precision)\n",
        "        rouge2_f1.append(score['rouge2'].fmeasure)\n",
        "        rougeL_recall.append(score['rougeL'].recall)\n",
        "        rougeL_precision.append(score['rougeL'].precision)\n",
        "        rougeL_f1.append(score['rougeL'].fmeasure)\n",
        "\n",
        "    avg_scores = {\n",
        "        'rouge1_recall': sum(rouge1_recall) / len(rouge1_recall),\n",
        "        'rouge1_precision': sum(rouge1_precision) / len(rouge1_precision),\n",
        "        'rouge1_f1': sum(rouge1_f1) / len(rouge1_f1),\n",
        "        'rouge2_recall': sum(rouge2_recall) / len(rouge2_recall),\n",
        "        'rouge2_precision': sum(rouge2_precision) / len(rouge2_precision),\n",
        "        'rouge2_f1': sum(rouge2_f1) / len(rouge2_f1),\n",
        "        'rougeL_recall': sum(rougeL_recall) / len(rougeL_recall),\n",
        "        'rougeL_precision': sum(rougeL_precision) / len(rougeL_precision),\n",
        "        'rougeL_f1': sum(rougeL_f1) / len(rougeL_f1),\n",
        "    }\n",
        "    return avg_scores\n",
        "\n",
        "# Define your predictions and references for each model\n",
        "models_predictions_references = {\n",
        "    'flan_t5_base': (Flan_t5_base_baseline_predictions, reference_ft5_base),\n",
        "    'flan_t5_base_Bio': (Flan_t5_base_Bio_predictions, reference_ft5_base),\n",
        "    'flan_t5_base_Clinical': (Flan_t5_base_Clinical_predictions, reference_ft5_base),\n",
        "    'flan_t5_base_KeyBert': (Flan_T5_base_KeyBert_predictions, reference_ft5_base),\n",
        "    'flan_t5_base_adj': (Flan_t5_base_baseline_predictions_adj, reference_ft5_base_adj),\n",
        "    'flan_t5_base_Bio_adj': (Flan_t5_base_Bio_predictions_adj, reference_ft5_base_adj),\n",
        "    'flan_t5_base_Clinical_adj': (Flan_t5_base_Clinical_predictions_adj, reference_ft5_base_adj),\n",
        "    'flan_t5_base_KeyBert_adj': (Flan_T5_base_KeyBert_predictions_adj, reference_ft5_base_adj),\n",
        "    'flan_t5_large': (Flan_t5_large_baseline_predictions, reference_ft5_large),\n",
        "    'flan_t5_large_Bio': (Flan_t5_large_Bio_predictions, reference_ft5_large),\n",
        "    'flan_t5_large_Clinical': (Flan_t5_large_Clinical_predictions, reference_ft5_large),\n",
        "    'flan_t5_large_KeyBert': (Flan_T5_large_KeyBert_predictions, reference_ft5_large),\n",
        "    'LED_large_shortdialogue': (LED_LORA_large_shortdialogue_predictions, reference_LED_LORA_large_baseline_shortdialogue),\n",
        "    'LED_large_Bio_shortdialogues': (LED_LORA_large_shortdialogue_Bio_predictions, reference_LED_LORA_large_baseline_shortdialogue),\n",
        "    'LED_large_Clinical_shortdialogue': (LED_LORA_large_shortdialogue_Clinical_predictions, reference_LED_LORA_large_baseline_shortdialogue),\n",
        "    'LED_large_keybert_shortdialogues': (LED_LORA_large_shortdialogue_keybert_predictions, reference_LED_LORA_large_baseline_shortdialogue),\n",
        "}\n",
        "\n",
        "# Calculate scores for each model\n",
        "scores = {}\n",
        "for model_name, (predictions, references) in models_predictions_references.items():\n",
        "    scores[model_name] = calculate_rouge(predictions, references)\n",
        "\n",
        "# Convert the dictionary to a DataFrame\n",
        "df = pd.DataFrame.from_dict(scores, orient='index')\n",
        "\n",
        "# Reset the index to have a column for the model names\n",
        "df.reset_index(inplace=True)\n",
        "df.rename(columns={'index': 'model'}, inplace=True)\n",
        "\n",
        "# Insert empty rows at the specified positions\n",
        "df.loc[3.4] = [''] * len(df.columns)  # Insert before 'flan_t5_base_KeyBert'\n",
        "df.loc[7.4] = [''] * len(df.columns)  # Insert before 'flan_t5_base_KeyBert_adj'\n",
        "df.loc[11.4] = [''] * len(df.columns)  # Insert before 'flan_t5_large_KeyBert'\n",
        "\n",
        "# Sort the index to position the empty rows correctly\n",
        "df.sort_index(inplace=True)\n",
        "\n",
        "# Format the DataFrame to replace NaN with empty strings\n",
        "df = df.fillna('')\n",
        "\n",
        "# Display the DataFrame without the index\n",
        "print(df.to_string(index=False))\n"
      ],
      "metadata": {
        "colab": {
          "base_uri": "https://localhost:8080/"
        },
        "id": "YqrkqMBqjpOg",
        "outputId": "c89baef9-f9a4-4a0e-a78e-f9eb1f067f5f"
      },
      "execution_count": 77,
      "outputs": [
        {
          "output_type": "stream",
          "name": "stdout",
          "text": [
            "                           model rouge1_recall rouge1_precision rouge1_f1 rouge2_recall rouge2_precision rouge2_f1 rougeL_recall rougeL_precision rougeL_f1\n",
            "                    flan_t5_base      0.504926         0.260104  0.289646      0.238523           0.1016  0.121821      0.432544         0.230183   0.25288\n",
            "                flan_t5_base_Bio      0.515908         0.260468  0.291812      0.242375          0.10598  0.125107        0.4371         0.229046   0.25268\n",
            "           flan_t5_base_Clinical      0.508469         0.246695   0.28176       0.23414          0.10187   0.11998      0.426827         0.216081  0.242329\n",
            "            flan_t5_base_KeyBert      0.516668          0.24998  0.282631      0.249743         0.103053  0.123963      0.442613         0.220257  0.246436\n",
            "                                                                                                                                                           \n",
            "                flan_t5_base_adj       0.53867         0.257973  0.297801      0.257715         0.098484  0.122007      0.463502         0.231401  0.262461\n",
            "            flan_t5_base_Bio_adj      0.522582           0.2518  0.285524      0.243753         0.099906  0.119974      0.444374         0.220876  0.247951\n",
            "       flan_t5_base_Clinical_adj      0.529982         0.246754  0.289024      0.246005         0.099019  0.119002      0.447922         0.216439  0.249797\n",
            "        flan_t5_base_KeyBert_adj       0.53134         0.245977  0.286838      0.257137         0.104204  0.127201      0.455192         0.216191  0.249707\n",
            "                                                                                                                                                           \n",
            "                   flan_t5_large       0.56019          0.29933  0.326904      0.288517         0.132457  0.155356      0.483347         0.263894  0.286057\n",
            "               flan_t5_large_Bio      0.535663         0.289702  0.309183      0.264882         0.123208  0.137307      0.454143         0.251869  0.265656\n",
            "          flan_t5_large_Clinical      0.528448         0.288709  0.305591       0.26412         0.122855  0.138635       0.45087         0.253414  0.264318\n",
            "           flan_t5_large_KeyBert      0.544811         0.302047  0.316041      0.275646         0.128758  0.143544      0.462915         0.262658  0.270856\n",
            "                                                                                                                                                           \n",
            "         LED_large_shortdialogue      0.145798         0.619763  0.210123      0.058982         0.247876  0.085295      0.091384         0.457851  0.135062\n",
            "    LED_large_Bio_shortdialogues      0.113898          0.63843  0.175973      0.044135         0.249987  0.068606      0.069493         0.472727  0.110577\n",
            "LED_large_Clinical_shortdialogue      0.111608         0.625125  0.171421       0.04308         0.247484  0.066547      0.069339         0.464925  0.109464\n",
            "LED_large_keybert_shortdialogues      0.114088          0.61805  0.173164       0.04535         0.247427  0.068862       0.07029         0.459999  0.109924\n"
          ]
        }
      ]
    },
    {
      "cell_type": "markdown",
      "source": [
        "**flan_t5 Models:**\n",
        "\n",
        "- flan_t5_large and its variants (Bio, Clinical, KeyBert) generally outperform the base versions in all ROUGE metrics.\n",
        "- The flan_t5_large model has the highest ROUGE-1 F1 score (0.3269), indicating a better balance between precision and recall in capturing relevant information compared to other models.\n",
        "\n",
        "**LED Models:**\n",
        "\n",
        "- LED models, including LED_large_shortdialogue and its variants, exhibit high precision scores (e.g., ROUGE-1 precision of 0.6198 for LED_large_shortdialogue) but much lower recall scores.\n",
        "- This indicates that while the LED models are good at generating concise summaries that contain relevant information, they miss a lot of the reference content, reflected in their lower recall scores.\n",
        "\n",
        "**Balanced Performance:**\n",
        "\n",
        "- The flan_t5_large models show a more balanced performance across recall, precision, and F1 scores, making them more reliable for generating comprehensive summaries.\n",
        "- The variants like flan_t5_large_Bio and flan_t5_large_Clinical also demonstrate strong performance, indicating the effectiveness of the model's adaptation to specific domains.\n",
        "\n",
        "**Trade-offs:**\n",
        "\n",
        "The high precision but low recall of LED models suggest they are better suited for tasks where the emphasis is on precision over recall. Conversely, the flan_t5 models' balanced performance makes them suitable for tasks requiring a good balance of both.\n",
        "\n",
        "**Conclusion:**\n",
        "\n",
        "The flan_t5 models, particularly the flan_t5_large and its domain-specific variants, provide the best overall performance in terms of ROUGE scores, indicating their effectiveness in generating high-quality summaries. The LED models, while precise, may need further tuning to improve recall and overall summary completeness."
      ],
      "metadata": {
        "id": "_d20Px-Rli3X"
      }
    },
    {
      "cell_type": "code",
      "source": [],
      "metadata": {
        "id": "XPStIV3mkRRp"
      },
      "execution_count": null,
      "outputs": []
    }
  ]
}